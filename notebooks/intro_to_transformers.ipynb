{
 "cells": [
  {
   "cell_type": "markdown",
   "id": "501d52df",
   "metadata": {},
   "source": [
    "# Huggingface intro to Transformer based models"
   ]
  },
  {
   "cell_type": "code",
   "execution_count": 7,
   "id": "971df437",
   "metadata": {},
   "outputs": [],
   "source": [
    "from transformers import pipeline\n",
    "import torch"
   ]
  },
  {
   "cell_type": "code",
   "execution_count": null,
   "id": "a598605e",
   "metadata": {},
   "outputs": [
    {
     "name": "stderr",
     "output_type": "stream",
     "text": [
      "No model was supplied, defaulted to distilbert/distilbert-base-uncased-finetuned-sst-2-english and revision 714eb0f (https://huggingface.co/distilbert/distilbert-base-uncased-finetuned-sst-2-english).\n",
      "Using a pipeline without specifying a model name and revision in production is not recommended.\n",
      "Xet Storage is enabled for this repo, but the 'hf_xet' package is not installed. Falling back to regular HTTP download. For better performance, install the package with: `pip install huggingface_hub[hf_xet]` or `pip install hf_xet`\n"
     ]
    },
    {
     "data": {
      "application/vnd.jupyter.widget-view+json": {
       "model_id": "a4efef776e4a416fa274be3be94296ad",
       "version_major": 2,
       "version_minor": 0
      },
      "text/plain": [
       "model.safetensors:   0%|          | 0.00/268M [00:00<?, ?B/s]"
      ]
     },
     "metadata": {},
     "output_type": "display_data"
    },
    {
     "name": "stderr",
     "output_type": "stream",
     "text": [
      "c:\\Users\\mirko\\Documents\\Coding\\transformers\\.venv\\Lib\\site-packages\\huggingface_hub\\file_download.py:143: UserWarning: `huggingface_hub` cache-system uses symlinks by default to efficiently store duplicated files but your machine does not support them in C:\\Users\\mirko\\.cache\\huggingface\\hub\\models--distilbert--distilbert-base-uncased-finetuned-sst-2-english. Caching files will still work but in a degraded version that might require more space on your disk. This warning can be disabled by setting the `HF_HUB_DISABLE_SYMLINKS_WARNING` environment variable. For more details, see https://huggingface.co/docs/huggingface_hub/how-to-cache#limitations.\n",
      "To support symlinks on Windows, you either need to activate Developer Mode or to run Python as an administrator. In order to activate developer mode, see this article: https://docs.microsoft.com/en-us/windows/apps/get-started/enable-your-device-for-development\n",
      "  warnings.warn(message)\n"
     ]
    },
    {
     "data": {
      "application/vnd.jupyter.widget-view+json": {
       "model_id": "7e05627aad9e4e1a8edf99bcd1f473da",
       "version_major": 2,
       "version_minor": 0
      },
      "text/plain": [
       "tokenizer_config.json:   0%|          | 0.00/48.0 [00:00<?, ?B/s]"
      ]
     },
     "metadata": {},
     "output_type": "display_data"
    },
    {
     "data": {
      "application/vnd.jupyter.widget-view+json": {
       "model_id": "9a7d57fe042e42a292d69cc45f1069bd",
       "version_major": 2,
       "version_minor": 0
      },
      "text/plain": [
       "vocab.txt:   0%|          | 0.00/232k [00:00<?, ?B/s]"
      ]
     },
     "metadata": {},
     "output_type": "display_data"
    },
    {
     "name": "stderr",
     "output_type": "stream",
     "text": [
      "Device set to use cpu\n"
     ]
    },
    {
     "data": {
      "text/plain": [
       "[{'label': 'NEGATIVE', 'score': 0.9996360540390015}]"
      ]
     },
     "execution_count": 3,
     "metadata": {},
     "output_type": "execute_result"
    }
   ],
   "source": [
    "# Ok so basically pipelines include pre-processing, inference and postprocessing. From beginning to end, they allow you to run a model with \n",
    "# just a few lines of code.\n",
    "\n",
    "sentiments = pipeline(\"sentiment-analysis\")\n",
    "\n",
    "sentiments(\"I am not too sure about this course\")"
   ]
  },
  {
   "cell_type": "markdown",
   "id": "486cde4f",
   "metadata": {},
   "source": [
    "## Behind the Pipeline\n",
    "\n",
    "You can break down the Pipeline in:\n",
    "- Pre-processing --> Tokenizer (needs to be the same as the one used for training the model of course)\n",
    "- Model Inference\n",
    "- Post-processing"
   ]
  },
  {
   "cell_type": "markdown",
   "id": "4d798fd1",
   "metadata": {},
   "source": [
    "### Tokenizer\n",
    "https://huggingface.co/learn/llm-course/chapter2/6?fw=pt"
   ]
  },
  {
   "cell_type": "code",
   "execution_count": 2,
   "id": "ff92c9c5",
   "metadata": {},
   "outputs": [],
   "source": [
    "# Pre-processing with tokenizers -> we can use AutoTokenizer to load the tokenizer for a specific model, using 'from_pretrained' method.\n",
    "\n",
    "from transformers import AutoTokenizer\n",
    "checkpoint = \"distilbert-base-uncased-finetuned-sst-2-english\"\n",
    "\n",
    "tokenizer = AutoTokenizer.from_pretrained(\"distilbert-base-uncased-finetuned-sst-2-english\")\n"
   ]
  },
  {
   "cell_type": "code",
   "execution_count": null,
   "id": "e0248494",
   "metadata": {},
   "outputs": [],
   "source": [
    "# If we we try passing some text to the tokenizer we get \n",
    "# 1) the 'input_ids' (integers) in the output you request (tensors in this case) \n",
    "# 2) the 'attention_mask'\n",
    "\n",
    "raw_text = ['Testing that the chosen tokenizer works.', \n",
    "            \"Here's another sentence\"]\n",
    "\n",
    "inputs = tokenizer(raw_text, padding=True, truncation=True, return_tensors='pt')\n",
    "\n",
    "# ALTERNATIVELY, spelled out, we can also first tokenize and then convert into dictionary IDs\n",
    "tokens = tokenizer.tokenize(raw_text)\n",
    "ids = tokenizer.convert_tokens_to_ids(tokens)\n",
    "input_ids = torch.tensor(ids)\n"
   ]
  },
  {
   "cell_type": "code",
   "execution_count": 6,
   "id": "69b8a3fc",
   "metadata": {},
   "outputs": [
    {
     "data": {
      "text/plain": [
       "['testing',\n",
       " 'that',\n",
       " 'the',\n",
       " 'chosen',\n",
       " 'token',\n",
       " '##izer',\n",
       " 'works',\n",
       " '.',\n",
       " 'here',\n",
       " \"'\",\n",
       " 's',\n",
       " 'another',\n",
       " 'sentence']"
      ]
     },
     "execution_count": 6,
     "metadata": {},
     "output_type": "execute_result"
    }
   ],
   "source": [
    "tokens"
   ]
  },
  {
   "cell_type": "markdown",
   "id": "0ba11837",
   "metadata": {},
   "source": [
    "#### What about *Padding*?\n",
    "\n",
    "When batch size >1, we feed multiple sentences to the model. The model, however, only accepts inputs of rectangular shape (tensors) therefore we need *padding* to make all the sequences the same length.\n",
    "\n",
    "Basically, a *padding token* is added. We also need to tell the attention layers in the model to ignore the padding tokens - that's where the *attention mask* comes in.\n"
   ]
  },
  {
   "cell_type": "code",
   "execution_count": 8,
   "id": "17545cf5",
   "metadata": {},
   "outputs": [
    {
     "data": {
      "text/plain": [
       "tensor([[1, 1, 1, 1, 1, 1, 1, 1, 1, 1],\n",
       "        [1, 1, 1, 1, 1, 1, 1, 0, 0, 0]])"
      ]
     },
     "execution_count": 8,
     "metadata": {},
     "output_type": "execute_result"
    }
   ],
   "source": [
    "inputs['attention_mask']"
   ]
  },
  {
   "cell_type": "code",
   "execution_count": 9,
   "id": "eb62d6cc",
   "metadata": {},
   "outputs": [
    {
     "data": {
      "text/plain": [
       "{'input_ids': tensor([[  101,  5604,  2008,  1996,  4217, 19204, 17629,  2573,  1012,   102],\n",
       "        [  101,  2182,  1005,  1055,  2178,  6251,   102,     0,     0,     0]]), 'attention_mask': tensor([[1, 1, 1, 1, 1, 1, 1, 1, 1, 1],\n",
       "        [1, 1, 1, 1, 1, 1, 1, 0, 0, 0]])}"
      ]
     },
     "execution_count": 9,
     "metadata": {},
     "output_type": "execute_result"
    }
   ],
   "source": [
    "inputs"
   ]
  },
  {
   "cell_type": "markdown",
   "id": "e6619eb6",
   "metadata": {},
   "source": [
    "#### Sequence length: how long can you go?\n",
    "Most models handle sequences up to 512 or 1024 tokens. We can either truncate sequences or use a model with longer supported sequence length"
   ]
  },
  {
   "cell_type": "markdown",
   "id": "f0d947e1",
   "metadata": {},
   "source": [
    "### Loading the model\n",
    "\n",
    "The vector outputted by the core transformer module is an embedding representing the input, of size:\n",
    "- batch_size (Number of sequences (sentences) processed each time - 2 in this case)\n",
    "- Sequence length (the number of tokens contained in each sequence)\n",
    "- Hidden size (the vector dimensions of each input - from 768 from smaller models to 3k+ for larger ones)\n",
    "\n",
    "In this diagram below, the model is represented by its embeddings layer and the subsequent layers. The embeddings layer converts each input ID in the tokenized input into a vector that represents the associated token. The subsequent layers manipulate those vectors using the attention mechanism to produce the final representation of the sentences.\n",
    "\n",
    "What exactly gets loaded? 2 things: The config file containing the model architecture description and the .bin file, containing model weights"
   ]
  },
  {
   "attachments": {
    "image.png": {
     "image/png": "[encoded data removed]"
    }
   },
   "cell_type": "markdown",
   "id": "fb9f396b",
   "metadata": {},
   "source": [
    "![image.png](attachment:image.png)"
   ]
  },
  {
   "cell_type": "code",
   "execution_count": 9,
   "id": "ecd02ea6",
   "metadata": {},
   "outputs": [
    {
     "data": {
      "application/vnd.jupyter.widget-view+json": {
       "model_id": "e5a4e145fc1e480aa6d1c66385e4b26c",
       "version_major": 2,
       "version_minor": 0
      },
      "text/plain": [
       "model.safetensors:   0%|          | 0.00/268M [00:00<?, ?B/s]"
      ]
     },
     "metadata": {},
     "output_type": "display_data"
    }
   ],
   "source": [
    "from transformers import AutoModel\n",
    "\n",
    "model = AutoModel.from_pretrained(checkpoint)"
   ]
  },
  {
   "cell_type": "code",
   "execution_count": 16,
   "id": "0ea7605e",
   "metadata": {},
   "outputs": [],
   "source": [
    "# This is just the base Transformer module - it outputs hidden states, also known as features (embeddings?)\n",
    "outputs = model(**inputs)"
   ]
  },
  {
   "cell_type": "code",
   "execution_count": 24,
   "id": "6de20b7b",
   "metadata": {},
   "outputs": [
    {
     "data": {
      "text/plain": [
       "torch.Size([2, 10, 768])"
      ]
     },
     "execution_count": 24,
     "metadata": {},
     "output_type": "execute_result"
    }
   ],
   "source": [
    "outputs[0].shape"
   ]
  },
  {
   "cell_type": "markdown",
   "id": "3160c1ab",
   "metadata": {},
   "source": [
    "### Now we need a Head to interpret the model hidden states"
   ]
  },
  {
   "cell_type": "code",
   "execution_count": null,
   "id": "b0e1f4b9",
   "metadata": {},
   "outputs": [],
   "source": [
    "# Not sure how to call the head directly on the outputs of the previous run. But we can call directly the combination of transformer base and head for a specific task.\n",
    "# There can be multiple heads for the same base, specializing the model in a given task (is Head = to fineturning? --> NO! )\n",
    "\n",
    "from transformers import AutoModelForSequenceClassification\n",
    "\n",
    "model = AutoModelForSequenceClassification.from_pretrained(checkpoint)"
   ]
  },
  {
   "cell_type": "code",
   "execution_count": null,
   "id": "fd14d639",
   "metadata": {},
   "outputs": [
    {
     "data": {
      "text/plain": [
       "tensor([[  101,  5604,  2008,  1996,  4217, 19204, 17629,  2573,  1012,   102],\n",
       "        [  101,  2182,  1005,  1055,  2178,  6251,   102,     0,     0,     0]])"
      ]
     },
     "execution_count": 43,
     "metadata": {},
     "output_type": "execute_result"
    }
   ],
   "source": [
    "# The model needs tensors of tokens to produce logits. You can build them putting a list of list of tokens through a tensor \n",
    "\n",
    "inputs['input_ids']"
   ]
  },
  {
   "cell_type": "code",
   "execution_count": null,
   "id": "88809697",
   "metadata": {},
   "outputs": [
    {
     "data": {
      "text/plain": [
       "SequenceClassifierOutput(loss=None, logits=tensor([[ 0.5675, -0.3028],\n",
       "        [ 2.9117, -2.5049]], grad_fn=<AddmmBackward0>), hidden_states=None, attentions=None)"
      ]
     },
     "execution_count": 29,
     "metadata": {},
     "output_type": "execute_result"
    }
   ],
   "source": [
    "# The output of this step is LOGITS - it is the final output of the transformer\n",
    "outputs = model(**inputs)\n",
    "outputs"
   ]
  },
  {
   "cell_type": "code",
   "execution_count": null,
   "id": "a5e31a72",
   "metadata": {},
   "outputs": [
    {
     "data": {
      "text/plain": [
       "tensor([[ 0.5675, -0.3028],\n",
       "        [ 2.9117, -2.5049]], grad_fn=<AddmmBackward0>)"
      ]
     },
     "execution_count": 30,
     "metadata": {},
     "output_type": "execute_result"
    }
   ],
   "source": [
    "outputs.logits"
   ]
  },
  {
   "cell_type": "markdown",
   "id": "3802215e",
   "metadata": {},
   "source": [
    "### Postprocessing - from Logits to an actual prediction\n",
    "From the previous step we get Logits, the raw, unnormalized scores outputted by the last layer of the model. All Hugginface Transformers models output logits, as the loss function for training will generally fuse the last activation function, such as SoftMax, with the actual loss function, such as cross entropy.\n",
    "\n",
    "To be converted to probabilities, Logits need to go through a SoftMax layer \n"
   ]
  },
  {
   "cell_type": "code",
   "execution_count": 35,
   "id": "3eaad801",
   "metadata": {},
   "outputs": [
    {
     "data": {
      "text/plain": [
       "tensor([[0.7048, 0.2952],\n",
       "        [0.9956, 0.0044]], grad_fn=<SoftmaxBackward0>)"
      ]
     },
     "execution_count": 35,
     "metadata": {},
     "output_type": "execute_result"
    }
   ],
   "source": [
    "import torch \n",
    "\n",
    "predictions = torch.nn.functional.softmax(input=outputs.logits, dim=-1 )\n",
    "predictions"
   ]
  },
  {
   "cell_type": "code",
   "execution_count": null,
   "id": "668560ed",
   "metadata": {},
   "outputs": [
    {
     "data": {
      "text/plain": [
       "DistilBertConfig {\n",
       "  \"activation\": \"gelu\",\n",
       "  \"architectures\": [\n",
       "    \"DistilBertForSequenceClassification\"\n",
       "  ],\n",
       "  \"attention_dropout\": 0.1,\n",
       "  \"dim\": 768,\n",
       "  \"dropout\": 0.1,\n",
       "  \"finetuning_task\": \"sst-2\",\n",
       "  \"hidden_dim\": 3072,\n",
       "  \"id2label\": {\n",
       "    \"0\": \"NEGATIVE\",\n",
       "    \"1\": \"POSITIVE\"\n",
       "  },\n",
       "  \"initializer_range\": 0.02,\n",
       "  \"label2id\": {\n",
       "    \"NEGATIVE\": 0,\n",
       "    \"POSITIVE\": 1\n",
       "  },\n",
       "  \"max_position_embeddings\": 512,\n",
       "  \"model_type\": \"distilbert\",\n",
       "  \"n_heads\": 12,\n",
       "  \"n_layers\": 6,\n",
       "  \"output_past\": true,\n",
       "  \"pad_token_id\": 0,\n",
       "  \"qa_dropout\": 0.1,\n",
       "  \"seq_classif_dropout\": 0.2,\n",
       "  \"sinusoidal_pos_embds\": false,\n",
       "  \"tie_weights_\": true,\n",
       "  \"torch_dtype\": \"float32\",\n",
       "  \"transformers_version\": \"4.52.3\",\n",
       "  \"vocab_size\": 30522\n",
       "}"
      ]
     },
     "execution_count": 38,
     "metadata": {},
     "output_type": "execute_result"
    }
   ],
   "source": [
    "# What do the predictions mean? we can check the model config for the labels in label2id\n",
    "model.config"
   ]
  },
  {
   "cell_type": "code",
   "execution_count": null,
   "id": "774e8ac9",
   "metadata": {},
   "outputs": [],
   "source": []
  },
  {
   "cell_type": "markdown",
   "id": "2cc7469e",
   "metadata": {},
   "source": [
    "## Fine-Tuning a pretrained model"
   ]
  },
  {
   "cell_type": "markdown",
   "id": "e915381c",
   "metadata": {},
   "source": [
    "Alright, we have seen how to do simple inference on a given model, starting from tokenizing input to calling the model and postprocessing. Now we talk about fine-tuning of a pretrained model"
   ]
  },
  {
   "cell_type": "markdown",
   "id": "446ca3d2",
   "metadata": {},
   "source": [
    "### Datasets and Pre-processing\n"
   ]
  },
  {
   "cell_type": "code",
   "execution_count": null,
   "id": "d18a3788",
   "metadata": {},
   "outputs": [
    {
     "data": {
      "application/vnd.jupyter.widget-view+json": {
       "model_id": "f1aeb74598584d76ae128d9192b8d07f",
       "version_major": 2,
       "version_minor": 0
      },
      "text/plain": [
       "README.md:   0%|          | 0.00/35.3k [00:00<?, ?B/s]"
      ]
     },
     "metadata": {},
     "output_type": "display_data"
    },
    {
     "name": "stderr",
     "output_type": "stream",
     "text": [
      "c:\\Users\\mirko\\Documents\\Coding\\transformers\\.venv\\Lib\\site-packages\\huggingface_hub\\file_download.py:143: UserWarning: `huggingface_hub` cache-system uses symlinks by default to efficiently store duplicated files but your machine does not support them in C:\\Users\\mirko\\.cache\\huggingface\\hub\\datasets--glue. Caching files will still work but in a degraded version that might require more space on your disk. This warning can be disabled by setting the `HF_HUB_DISABLE_SYMLINKS_WARNING` environment variable. For more details, see https://huggingface.co/docs/huggingface_hub/how-to-cache#limitations.\n",
      "To support symlinks on Windows, you either need to activate Developer Mode or to run Python as an administrator. In order to activate developer mode, see this article: https://docs.microsoft.com/en-us/windows/apps/get-started/enable-your-device-for-development\n",
      "  warnings.warn(message)\n"
     ]
    },
    {
     "data": {
      "application/vnd.jupyter.widget-view+json": {
       "model_id": "0e99c99351f348c3b747c6527e0e2fe8",
       "version_major": 2,
       "version_minor": 0
      },
      "text/plain": [
       "train-00000-of-00001.parquet:   0%|          | 0.00/649k [00:00<?, ?B/s]"
      ]
     },
     "metadata": {},
     "output_type": "display_data"
    },
    {
     "data": {
      "application/vnd.jupyter.widget-view+json": {
       "model_id": "881e90330b6749ef898c29269c1ed070",
       "version_major": 2,
       "version_minor": 0
      },
      "text/plain": [
       "validation-00000-of-00001.parquet:   0%|          | 0.00/75.7k [00:00<?, ?B/s]"
      ]
     },
     "metadata": {},
     "output_type": "display_data"
    },
    {
     "data": {
      "application/vnd.jupyter.widget-view+json": {
       "model_id": "5ac4a3b536394257a52959d9aad607a7",
       "version_major": 2,
       "version_minor": 0
      },
      "text/plain": [
       "test-00000-of-00001.parquet:   0%|          | 0.00/308k [00:00<?, ?B/s]"
      ]
     },
     "metadata": {},
     "output_type": "display_data"
    },
    {
     "data": {
      "application/vnd.jupyter.widget-view+json": {
       "model_id": "d85bdfdcab444b968ed224e16063747c",
       "version_major": 2,
       "version_minor": 0
      },
      "text/plain": [
       "Generating train split:   0%|          | 0/3668 [00:00<?, ? examples/s]"
      ]
     },
     "metadata": {},
     "output_type": "display_data"
    },
    {
     "data": {
      "application/vnd.jupyter.widget-view+json": {
       "model_id": "01964a5cf0164d70bf1e781973e46c34",
       "version_major": 2,
       "version_minor": 0
      },
      "text/plain": [
       "Generating validation split:   0%|          | 0/408 [00:00<?, ? examples/s]"
      ]
     },
     "metadata": {},
     "output_type": "display_data"
    },
    {
     "data": {
      "application/vnd.jupyter.widget-view+json": {
       "model_id": "b20c4b29d5c247daa6c8d28eed5dec9f",
       "version_major": 2,
       "version_minor": 0
      },
      "text/plain": [
       "Generating test split:   0%|          | 0/1725 [00:00<?, ? examples/s]"
      ]
     },
     "metadata": {},
     "output_type": "display_data"
    },
    {
     "data": {
      "text/plain": [
       "DatasetDict({\n",
       "    train: Dataset({\n",
       "        features: ['sentence1', 'sentence2', 'label', 'idx'],\n",
       "        num_rows: 3668\n",
       "    })\n",
       "    validation: Dataset({\n",
       "        features: ['sentence1', 'sentence2', 'label', 'idx'],\n",
       "        num_rows: 408\n",
       "    })\n",
       "    test: Dataset({\n",
       "        features: ['sentence1', 'sentence2', 'label', 'idx'],\n",
       "        num_rows: 1725\n",
       "    })\n",
       "})"
      ]
     },
     "execution_count": 11,
     "metadata": {},
     "output_type": "execute_result"
    }
   ],
   "source": [
    "# Loading a dataset containing 2 sentences and a label (0/1) to indicate whether they are of same meaning or not.\n",
    "\n",
    "from datasets import load_dataset\n",
    "\n",
    "raw_datasets = load_dataset(\"glue\", \"mrpc\")\n",
    "raw_datasets"
   ]
  },
  {
   "cell_type": "code",
   "execution_count": null,
   "id": "71e7a5bb",
   "metadata": {},
   "outputs": [
    {
     "data": {
      "text/plain": [
       "{'sentence1': \"PCCW 's chief operating officer , Mike Butcher , and Alex Arena , the chief financial officer , will report directly to Mr So .\",\n",
       " 'sentence2': 'Current Chief Operating Officer Mike Butcher and Group Chief Financial Officer Alex Arena will report to So .',\n",
       " 'label': 1,\n",
       " 'idx': 0}"
      ]
     },
     "execution_count": 16,
     "metadata": {},
     "output_type": "execute_result"
    }
   ],
   "source": [
    "# you can call each x,y,label pair by idx\n",
    "raw_datasets['test'][0]"
   ]
  },
  {
   "cell_type": "code",
   "execution_count": null,
   "id": "eeaaccb2",
   "metadata": {},
   "outputs": [
    {
     "data": {
      "text/plain": [
       "{'sentence1': Value(dtype='string', id=None),\n",
       " 'sentence2': Value(dtype='string', id=None),\n",
       " 'label': ClassLabel(names=['not_equivalent', 'equivalent'], id=None),\n",
       " 'idx': Value(dtype='int32', id=None)}"
      ]
     },
     "execution_count": 17,
     "metadata": {},
     "output_type": "execute_result"
    }
   ],
   "source": [
    "# you can also look at the metadata available about features in the datasets object\n",
    "raw_datasets['train'].features"
   ]
  },
  {
   "cell_type": "code",
   "execution_count": 21,
   "id": "3578e755",
   "metadata": {},
   "outputs": [
    {
     "data": {
      "text/plain": [
       "'Amrozi accused his brother , whom he called \" the witness \" , of deliberately distorting his evidence .'"
      ]
     },
     "execution_count": 21,
     "metadata": {},
     "output_type": "execute_result"
    }
   ],
   "source": [
    "raw_datasets['train'][0]['sentence1']"
   ]
  },
  {
   "cell_type": "code",
   "execution_count": null,
   "id": "d626cd5b",
   "metadata": {},
   "outputs": [],
   "source": [
    "# then remember to tokenize it's \n",
    "\n",
    "from transformers import AutoTokenizer\n",
    "\n",
    "checkpoint = \"bert-base-uncased\"\n",
    "tokenizer = AutoTokenizer.from_pretrained(checkpoint)\n",
    "\n",
    "tokenized_sentences_1 = tokenizer(raw_datasets['train'][15]['sentence1'])\n",
    "tokenized_sentences_2 = tokenizer(raw_datasets['train'][15]['sentence2'])"
   ]
  },
  {
   "cell_type": "code",
   "execution_count": 35,
   "id": "9c361733",
   "metadata": {},
   "outputs": [
    {
     "data": {
      "text/plain": [
       "{'input_ids': [101, 24049, 2001, 2087, 3728, 3026, 3580, 2343, 2005, 1996, 9722, 1004, 4132, 9340, 12439, 2964, 2449, 1012, 102], 'token_type_ids': [0, 0, 0, 0, 0, 0, 0, 0, 0, 0, 0, 0, 0, 0, 0, 0, 0, 0, 0], 'attention_mask': [1, 1, 1, 1, 1, 1, 1, 1, 1, 1, 1, 1, 1, 1, 1, 1, 1, 1, 1]}"
      ]
     },
     "execution_count": 35,
     "metadata": {},
     "output_type": "execute_result"
    }
   ],
   "source": [
    "tokenized_sentences_1"
   ]
  },
  {
   "cell_type": "code",
   "execution_count": 36,
   "id": "8fdcfc3f",
   "metadata": {},
   "outputs": [
    {
     "data": {
      "text/plain": [
       "{'input_ids': [101, 3026, 3580, 2343, 4388, 24049, 1010, 3839, 2132, 1997, 1996, 9722, 1998, 4132, 9340, 12439, 2964, 3131, 1010, 2097, 2599, 1996, 2047, 9178, 1012, 102], 'token_type_ids': [0, 0, 0, 0, 0, 0, 0, 0, 0, 0, 0, 0, 0, 0, 0, 0, 0, 0, 0, 0, 0, 0, 0, 0, 0, 0], 'attention_mask': [1, 1, 1, 1, 1, 1, 1, 1, 1, 1, 1, 1, 1, 1, 1, 1, 1, 1, 1, 1, 1, 1, 1, 1, 1, 1]}"
      ]
     },
     "execution_count": 36,
     "metadata": {},
     "output_type": "execute_result"
    }
   ],
   "source": [
    "tokenized_sentences_2"
   ]
  },
  {
   "cell_type": "code",
   "execution_count": null,
   "id": "7987c521",
   "metadata": {},
   "outputs": [
    {
     "data": {
      "text/plain": [
       "['[CLS]',\n",
       " 'rudder',\n",
       " 'was',\n",
       " 'most',\n",
       " 'recently',\n",
       " 'senior',\n",
       " 'vice',\n",
       " 'president',\n",
       " 'for',\n",
       " 'the',\n",
       " 'developer',\n",
       " '&',\n",
       " 'platform',\n",
       " 'evan',\n",
       " '##gel',\n",
       " '##ism',\n",
       " 'business',\n",
       " '.',\n",
       " '[SEP]']"
      ]
     },
     "execution_count": 37,
     "metadata": {},
     "output_type": "execute_result"
    }
   ],
   "source": [
    "# tokenizer takes care of adding start - stop tokens and pre processing \n",
    "tokenizer.convert_ids_to_tokens(tokenized_sentences_1['input_ids'])"
   ]
  },
  {
   "cell_type": "code",
   "execution_count": 58,
   "id": "9bc8eb60",
   "metadata": {},
   "outputs": [
    {
     "data": {
      "text/plain": [
       "['Amrozi accused his brother , whom he called \" the witness \" , of deliberately distorting his evidence .',\n",
       " \"Yucaipa owned Dominick 's before selling the chain to Safeway in 1998 for $ 2.5 billion .\",\n",
       " 'They had published an advertisement on the Internet on June 10 , offering the cargo for sale , he added .',\n",
       " 'Around 0335 GMT , Tab shares were up 19 cents , or 4.4 % , at A $ 4.56 , having earlier set a record high of A $ 4.57 .',\n",
       " 'The stock rose $ 2.11 , or about 11 percent , to close Friday at $ 21.51 on the New York Stock Exchange .',\n",
       " 'Revenue in the first quarter of the year dropped 15 percent from the same period a year earlier .',\n",
       " 'The Nasdaq had a weekly gain of 17.27 , or 1.2 percent , closing at 1,520.15 on Friday .',\n",
       " 'The DVD-CCA then appealed to the state Supreme Court .',\n",
       " 'That compared with $ 35.18 million , or 24 cents per share , in the year-ago period .',\n",
       " 'Shares of Genentech , a much larger company with several products on the market , rose more than 2 percent .',\n",
       " 'Legislation making it harder for consumers to erase their debts in bankruptcy court won overwhelming House approval in March .',\n",
       " 'The Nasdaq composite index increased 10.73 , or 0.7 percent , to 1,514.77 .',\n",
       " 'But he added group performance would improve in the second half of the year and beyond .',\n",
       " \"He told The Sun newspaper that Mr. Hussein 's daughters had British schools and hospitals in mind when they decided to ask for asylum .\",\n",
       " 'Gyorgy Heizler , head of the local disaster unit , said the coach was carrying 38 passengers .',\n",
       " 'Rudder was most recently senior vice president for the Developer & Platform Evangelism Business .',\n",
       " 'As well as the dolphin scheme , the chaos has allowed foreign companies to engage in damaging logging and fishing operations without proper monitoring or export controls .',\n",
       " 'Sheena Young of Child , the national infertility support network , hoped the guidelines would lead to a more \" fair and equitable \" service for infertility sufferers .',\n",
       " '\" I think you \\'ll see a lot of job growth in the next two years , \" he said , adding the growth could replace jobs lost .',\n",
       " \"The new Finder puts a user 's folders , hard drive , network servers , iDisk and removable media in one location , providing one-click access .\",\n",
       " 'But tropical storm warnings and watches were posted today for Haiti , western portions of the Dominican Republic , the southeastern Bahamas and the Turk and Caicos islands .',\n",
       " 'A federal magistrate in Fort Lauderdale ordered him held without bail .',\n",
       " 'A BMI of 25 or above is considered overweight ; 30 or above is considered obese .',\n",
       " 'Six months ago , the IMF and Argentina struck a bare-minimum $ 6.8-billion debt rollover deal that expires in August .',\n",
       " 'Inhibited children tend to be timid with new people , objects , and situations , while uninhibited children spontaneously approach them .',\n",
       " 'I wanted to bring the most beautiful people into the most beautiful building , he said Sunday inside the Grand Central concourse .',\n",
       " \"The broad Standard & Poor 's 500 < .SPX > fell 10.75 points , or 1.02 percent , to 1,039.32 .\",\n",
       " \"Duque will return to Earth Oct. 27 with the station 's current crew , U.S. astronaut Ed Lu and Russian cosmonaut Yuri Malenchenko .\",\n",
       " \"Singapore is already the United States ' 12th-largest trading partner , with two-way trade totaling more than $ 34 billion .\",\n",
       " 'The largest gains were seen in prices , new orders , inventories and exports .',\n",
       " 'Trading in Loral was halted yesterday ; the shares closed on Monday at $ 3.01 .',\n",
       " 'Earnings per share from recurring operations will be 13 cents to 14 cents .',\n",
       " \"He plans to have dinner with troops at Kosovo 's U.S. military headquarters , Camp Bondsteel .\",\n",
       " 'Retailers J.C. Penney Co . Inc . ( JCP ) and Walgreen Co . ( WAG ) kick things off on Monday .',\n",
       " 'Prosecutors filed a motion informing Lee they intend to seek the death penalty .',\n",
       " \"Last year the court upheld Cleveland 's school voucher program , ruling 5-4 that vouchers are constitutional if they provide parents a choice of religious and secular schools .\",\n",
       " 'He beat testicular cancer that had spread to his lungs and brain .',\n",
       " 'Sorkin , who faces charges of conspiracy to obstruct justice and lying to a grand jury , was to have been tried separately .',\n",
       " 'Graves reported from Albuquerque , Villafranca from Austin and Ratcliffe from Laredo .',\n",
       " 'The US chip market is expected to decline 2.1 percent this year , then grow 15.7 percent in 2004 .',\n",
       " 'The group will be headed by State Department official John S. Wolf , who has served in Australia , Vietnam , Greece and Pakistan .',\n",
       " \"The commission must work out the plan 's details , but the average residential customer paying $ 840 a year would get a savings of about $ 30 annually .\",\n",
       " 'The company has said it plans to restate its earnings for 2000 through 2002 .',\n",
       " 'Results from No. 2 U.S. soft drink maker PepsiCo Inc . PEP.N were likely to be in the spotlight .',\n",
       " '\" The result is an overall package that will provide significant economic growth for our employees over the next four years . \"',\n",
       " 'The songs are on offer for 99 cents each , or $ 9.99 for an album .',\n",
       " 'However , the talk was downplayed by PBL which said it would focus only on smaller purchases that were immediately earnings and cash flow accretive .',\n",
       " 'Comcast Class A shares were up 8 cents at $ 30.50 in morning trading on the Nasdaq Stock Market .',\n",
       " 'The Washington Post said Airlite would shut down its first shift and parts of the second shift Monday to accommodate the president ’ s appearance .',\n",
       " 'A former teammate , Carlton Dotson , has been charged with the murder .',\n",
       " 'Several of the questions asked by the audience in the fast-paced forum were new to the candidates .',\n",
       " 'Meanwhile , the global death toll approached 770 with more than 8,300 people sickened since the severe acute respiratory syndrome virus first appeared in southern China in November .',\n",
       " \"The battles marked day four of a U.S. sweep to hunt down supporters of Saddam Hussein 's fallen regime .\",\n",
       " 'The women then had follow-up examinations after five , 12 and 24 years .',\n",
       " 'The Embraer jets are scheduled to be delivered by September 2006 .',\n",
       " 'Contrary to what PeopleSoft management would have you believe , Oracle intends to fully support PeopleSoft customers and products for many years to come . \"',\n",
       " \"Application Intelligence will be included as part of the company 's SmartDefense application , which is included with Firewall-1 .\",\n",
       " 'American Masters : Arthur Miller , Elia Kazan and the Blacklist : None Without Sin ( Wed .',\n",
       " 'The downtime , to take place in May and June , is expected to cut production by 60 million to 70 million board feet .',\n",
       " 'On July 3 , Troy is expected to be sentenced to life in prison without parole .',\n",
       " 'The University of Michigan released a new undergraduate admission process Thursday , dropping a point system the U.S. Supreme Court found unconstitutional in June .',\n",
       " 'The processors were announced in San Jose at the Intel Developer Forum .',\n",
       " 'The Justice Department filed suit Thursday against the state of Mississippi for failing to end what federal officials call \" disturbing \" abuse of juveniles and \" unconscionable \" conditions at two state-run facilities .',\n",
       " \"It said the damage to the wing provided a pathway for hot gasses to penetrate the ship 's thermal armor during Columbia 's ill-fated reentry .\",\n",
       " 'Also demonstrating box-office strength _ and getting seven Tony nominations _ was a potent revival of Eugene O \\'Neill \\'s family drama , \" Long Day \\'s Journey Into Night . \"',\n",
       " 'But Secretary of State Colin Powell brushed off this possibility Wednesday .',\n",
       " 'Thomas and Tauzin say , as do many doctors , that the Bush administration has the power to correct some of those flaws .',\n",
       " 'Based on experience elsewhere , it could take up to two years before regular elections are held , he added .',\n",
       " 'The first biotechnology treatment for asthma , the constriction of the airways that affects millions around the world , received approval from the US Food and Drug Administration yesterday .',\n",
       " 'FBI agents arrested a former partner of Big Four accounting firm Ernst & Young ERNY.UL on criminal charges of obstructing federal investigations , U.S. officials said on Thursday .',\n",
       " 'Kelly will begin meetings with Russian Deputy Foreign Minister Alexander Losyukov in Washington on Monday .',\n",
       " 'The latest shooting linked to the spree was a November 11 shooting at Hamilton Central Elementary School in Obetz , about 3km from the freeway .',\n",
       " 'The Dow Jones Industrial Average ended down 128 points , or 1.4 % , at 9073 , while the Nasdaq fell 34 points , or 2.1 % , to 1610 .',\n",
       " \"PDC will also almost certainly fan the flames of speculation about Longhorn 's release .\",\n",
       " 'Sales - a figure watched closely as a barometer of its health - rose 5 percent instead of falling as many industry experts had predicted .',\n",
       " 'NEC is pitching its wireless gear and management software to a variety of industries , including health care and hospitality .',\n",
       " \"Elena Slough , considered to be the nation 's oldest person and the third oldest person in the world , died early Sunday morning .\",\n",
       " '\" We are declaring war on sexual harassment and sexual assault .',\n",
       " 'The technology-laced Nasdaq Composite Index < .IXIC > added 1.92 points , or 0.12 percent , at 1,647.94 .',\n",
       " 'The dollar was at 117.85 yen against the Japanese currency , up 0.1 percent .',\n",
       " 'El Watan , an Algerian newspaper , reported that the kidnappers fiercely resisted the army assault this morning , firing Kalashnikov rifles .',\n",
       " 'But Mitsubishi Tokyo Financial ( JP : 8306 : news , chart , profile ) declined 3,000 yen , or 0.65 percent , to 456,000 yen .',\n",
       " '\" We \\'re just dealing with bragging rights here , who wins and who loses . \"',\n",
       " 'Shares of Hartford rose $ 2.88 to $ 46.50 in New York Stock Exchange composite trading .',\n",
       " 'This Palm OS smart phone is the last product the company will release before it becomes a part of palmOne .',\n",
       " 'And they think the protein probably is involved in the spread of other forms of cancer .',\n",
       " \"Tokyo Electric Power Co . , Asia 's largest power company , won approval to restart the first of 17 nuclear reactors it shut down after it admitted falsifying inspection reports .\",\n",
       " 'Tuition at four-year private colleges averaged $ 19,710 this year , up 6 percent from 2002 .',\n",
       " 'Security lights have also been installed and police have swept the grounds for booby traps .',\n",
       " 'He said that with the U.S.-backed peace plan , or road map , “ in a coma , ” the attack could easily widen conflict through the region .',\n",
       " 'A successful attack could be launched within any type of document that supports VBA , including Microsoft Word , Excel or PowerPoint .',\n",
       " 'Officials at Brandeis said this was an \" extremely heartrending \" time for the campus .',\n",
       " '\" If that ain \\'t a Democrat , I must be at the wrong meeting , \" he said .',\n",
       " 'Fewer than a dozen FBI agents were dispatched to secure and analyze evidence .',\n",
       " 'Those who only had surgery lived an average of 46 months .',\n",
       " \"Tonight a spokesman for Russia 's foreign ministry said the ministry may issue a statement on Thursday clarifying Russia 's position on cooperation with Iran 's nuclear-energy efforts .\",\n",
       " \"A day earlier , a committee appointed by reformist President Mohammad Khatami called for an independent judicial inquiry into Kazemi 's death .\",\n",
       " 'The suite comes complete with a word processor , spreadsheet , presentation software and other components , while continuing its tradition of utilizing an XML-based file format .',\n",
       " 'Downstream at Mount Vernon , the Skagit River was expected to crest at 36 feet -- 8 feet above flood stage -- tonight , Burke said .',\n",
       " 'The blue-chip Dow Jones industrial average eased 44 points , or 0.47 percent , to 9,543 , after scoring five consecutive up sessions .',\n",
       " 'The Nasdaq composite index inched up 1.28 , or 0.1 percent , to 1,766.60 , following a weekly win of 3.7 percent .',\n",
       " 'Physicians who violate the ban would be subject to fines and up to two years in prison .',\n",
       " \"Standard & Poor 's 500 stock index futures declined 4.40 points to 983.50 , while Nasdaq futures fell 6.5 points to 1,206.50 .\",\n",
       " 'For example , Anhalt said , children typically treat a 20-ounce soda bottle as one serving , although it actually contains 2 ½ 8-ounce servings .',\n",
       " 'The yield on the 3 percent note maturing in 2008 fell 22 basis points to 2.61 percent .',\n",
       " \"Kline 's opinion dealt specifically with abortion providers , but it also would apply to doctors providing other services , such as prenatal care , to a pregnant child under 16 .\",\n",
       " \"The United Nations ' International Atomic Energy Agency asked for information on the allegation after the dossier was published , but Britain did not provide any , U.N. officials said .\",\n",
       " 'Sixteen days later , as superheated air from the shuttle \\'s reentry rushed into the damaged wing , \" there was no possibility for crew survival , \" the board said .',\n",
       " '\" The free world and those who love freedom and peace must deal harshly with Hamas and the killers , \" he told reporters as he emerged from a church service .',\n",
       " 'The pressure will intensify today , with national coverage of the final round planned by ESPN and words that are even more difficult .',\n",
       " 'Powell fired back : \" He \\'s accusing the president of a ludicrous act , \" he said .',\n",
       " 'The memo on protecting sales of Windows and other desktop software mentioned Linux , a still small but emerging software competitor that is not owned by any specific company .',\n",
       " 'Also Tuesday , the United States also released more Iraqi prisoners of war , and officials announced that all would soon be let go .',\n",
       " \"The resulting lists led toa CBS special , AFI 's 100 Years . . . 100 Heroes & Villains , hosted by Arnold Schwarzenegger .\",\n",
       " 'Police warned residents on Friday not to travel alone and to avoid convenience stores and service stations stores at night .',\n",
       " '\" We had nothing to do with @ Stake \\'s internal personnel decision , \" Microsoft spokesman Sean Sundwell said .',\n",
       " 'Prosecutors said there is no question Waagner was behind the letters , which were sent at the same time of the anthrax attacks .',\n",
       " \"His plan would cost more than $ 200 billion annually , which Gephardt would pay for by repealing Bush 's tax cuts .\",\n",
       " \"There had been fears that the 35 year-old wouldn 't be able to conceive after suffering two ectopic pregnancies and cancer of the uterus .\",\n",
       " 'On Friday , the Food and Drug Administration approved the use of silicone breast implants with conditions .',\n",
       " 'Prosecutors said Paracha , if convicted , could face at least 17 years in prison .',\n",
       " 'More than half of the songs were purchased as albums , Apple said .',\n",
       " 'The ECB has cut interest rates six times over that period , from 4.75 percent in October 2000 to 2.5 percent .',\n",
       " '\" This deal makes sense for both companies , \" Halla said in a prepared statement .',\n",
       " 'Smugglers in a van chased down a pickup and SUV carrying other smugglers and illegal immigrants , said Pinal County Sheriff Roger Vanderpool .',\n",
       " 'Tyco later said the loan had not been forgiven , and Swartz repaid it in full , with interest , according to his lawyer , Charles Stillman .',\n",
       " 'While Bolton apparently fell and was immobilized , Selenski used the mattress to scale a 10-foot , razor-wire fence , Fischi said .',\n",
       " 'The loonie , meanwhile , continued to slip in early trading Friday .',\n",
       " 'Ms. Haque , meanwhile , was on her turquoise cellphone with the smiley faces organizing the prom .',\n",
       " 'But he added that the New York-based actor and producer is \" a private person and doesn \\'t care to have his treatment out for public consumption . \"',\n",
       " \"While a month 's supply of aspirin can cost less than $ 10 , the equivalent amount of ticlopidine can run significantly more than $ 100 .\",\n",
       " 'She estimated it would take three months and would require cancellation of a sub-audit of the Department of Environmental Quality .',\n",
       " 'Arison said Mann may have been one of the pioneers of the world music movement and he had a deep love of Brazilian music .',\n",
       " 'The virus kills roughly 36,000 people in an average year , according to the U.S. Centers for Disease Control and Prevention .',\n",
       " 'In two new schemes , people posing as IRS representatives target families of armed forces members and e-mail users .',\n",
       " 'Wim Wenders directed a widely praised film of the same name , based on the sessions .',\n",
       " \"Miss Novikova said while there is no standard weight for ballerinas , Miss Volochkova is ' bigger than others ' .\",\n",
       " 'Both have aired videotapes of ex-president Saddam Hussein encouraging Iraqis to fight the U.S. occupation of Iraq .',\n",
       " 'Under the program , U.S. officials work with foreign port authorities to identify , target and search high-risk cargo .',\n",
       " 'And if we don \\'t do this , innocent people on the ground are going to die , too . \"',\n",
       " '\" It \\'s probably not the easiest time to take over the shuttle program , \" he added , \" but I look forward to the challenge .',\n",
       " \"As a result , Nelson now faces up to 10 years ' jail instead of life .\",\n",
       " 'With all precincts reporting , Fletcher — a three-term congressman from Lexington — had an overwhelming 57 percent of the vote .',\n",
       " '\" His progress is steady , he \\'s stable , he \\'s comfortable , \" Jack said Tuesday afternoon .',\n",
       " \"Shadrin said Khodorkovsky 's aircraft was approached by officers identifying themselves as members of the FSB intelligence service , the domestic successor to the Soviet KGB .\",\n",
       " 'She claimed all the babies were born full-term and died within hours , he said .',\n",
       " 'French Foreign Minister Dominique de Villepin was scheduled to arrive Sharm el-Sheikh on Wednesday .',\n",
       " 'They believe the same is true in humans , giving a 30 per cent higher risk of the disease .',\n",
       " 'Total sales for the period declined 8.0 percent to $ 1.99 billion from a year earlier .',\n",
       " \"U.S. law enforcement officials are sneering at Dar Heatherington 's version of the events which thrust her into the public spotlight .\",\n",
       " \"The Saudi newspaper Okaz reported Monday that suspects who escaped Saturday 's raid fled in a car that broke down on the outskirts of Mecca Sunday afternoon .\",\n",
       " 'Michael Mitchell , the chief public defender in Baton Rouge who is representing Lee , did not answer his phone Wednesday afternoon .',\n",
       " 'In Canada , the booming dollar will be in focus again as it tries to stay above the 75 cent ( U.S. ) mark .',\n",
       " 'They are tired of paying the high cost of CDs and DVDs and prefer more flexible forms of on-demand media delivery . \"',\n",
       " '\" The bolt catcher is not as robust as it is supposed to be , \" the board \\'s chairman , retired Adm. Hal Gehman , said .',\n",
       " 'The Interior Minister , Al Mustapha Sahel , said the investigation \" points to a group that has been arrested recently \" , an apparent reference to Djihad Salafist .',\n",
       " 'The report was found Oct. 23 , tucked inside an old three-ring binder not related to the investigation .',\n",
       " 'Among Fox viewers , 41 percent describe themselves as Republicans , 24 percent as Democrats and 30 percent as Independents .',\n",
       " 'Muslim immigrants have used the networks - which rely on wire transfers , couriers and overnight mail - to send cash to their families overseas .',\n",
       " 'Also arrested Friday was Claudia Carrizales de Villa , 34 , a Mexican citizen who lives in Harlingen .',\n",
       " '\" We condemn the Governing Council headed by the United States , \" Muqtada al Sadr said in a sermon at a mosque .',\n",
       " \"Mrs Boncyk 's husband , Wayne , had taken the family car to work , so his wife and children had to ride with neighbours .\",\n",
       " 'Ukrainian President Leonid Kuchma today cut short a visit to Latin America as a bitter border wrangle between Ukraine and Russia deteriorates further .',\n",
       " 'For the weekend , the top 12 movies grossed $ 157.1 million , up 52 percent from the same weekend a year earlier .',\n",
       " 'Platinum prices soared to 23-year highs earlier this year after President Bush ( news - web sites ) proposed investing $ 1.2 billion for research on fuel cell-powered vehicles .',\n",
       " '\" Nobody really knows what happened except me and that guard , \" Kaye said , \" and I can assure you that what he said happened didn \\'t happen . \"',\n",
       " 'Shares of Corixa fell 12 cents to $ 6.88 as of 3 : 59 p.m.',\n",
       " 'At the time federal investigators were looking into how CFSB allocated shares of initial public stock offerings .',\n",
       " 'Qanbar said the council members would possibly elect a chairman later Sunday .',\n",
       " 'October heating oil futures settled .85 cent lower at 69.89 cents a gallon .',\n",
       " 'By 2007 , antivirus solutions will carry a worldwide price tag of $ 4.4 billion--double that of five years earlier .',\n",
       " 'The Securities and Exchange Commission brought a related civil case on Thursday .',\n",
       " 'ConAgra stock closed Monday on the New York Stock Exchange at $ 21.63 a share , down 11 cents .',\n",
       " 'One of the features is the ability to delete data on a handheld device or lock down the device should a user lose it .',\n",
       " '\" I just got carried away and started making stuff , \" Byrne said .',\n",
       " 'Georgia cannot afford to not get funding , \" said Dr. Melinda Rowe , Chatham County \\'s health director .',\n",
       " 'Handspring shareholders will get 0.09 shares of the parent company , Palm , Inc . , for each share of Handspring common stock they currently own .',\n",
       " 'Shares of Microsoft rose 50 cents Friday to close at $ 28.34 a share on the Nasdaq Stock Market .',\n",
       " 'Based on having at least one of the symptoms , most students had been hung over between three and 11 times in the previous year .',\n",
       " 'Tibco has used the Rendezvous name since 1994 for several of its technology products , according to the Palo Alto , California company .',\n",
       " \"A few thousand troops , most from the division 's 3rd Brigade Combat Team based at Fort Benning in Columbus , began returning last week , with flights continuing through Friday .\",\n",
       " 'In a televised interview on Wednesday , ECB President Wim Duisenberg said it was too soon to discuss further interest rate cuts in the 12-nation euro zone .',\n",
       " 'Teenagers at high schools where condoms were available were no more likely to have sex than other teens , a study published Wednesday finds .',\n",
       " 'Later in the day , however , a former Intel executive turned the tables in a speech where he blasted wireless as being too complicated and too difficult to install .',\n",
       " 'He is charged in three bombings in Atlanta _ including a blast at the 1996 Olympics _ along with the bombing in Alabama .',\n",
       " 'They were found in a stolen van , said James Flateau , a spokesman for the state Department of Correctional Services .',\n",
       " 'On Thursday , a Post article argued that a 50 basis point cut from the Fed was more likely .',\n",
       " 'Sun was the lone major vendor to see its shipments decline , falling 2.9 percent to 59,692 units .',\n",
       " 'He is one of two Democrats on the five-member FCC , and he is a strong advocate of harsher penalties against radio and television stations that violate indecency laws .',\n",
       " 'The city index outperformed the Dow Jones industrial average , which fell 0.9 percent for the week .',\n",
       " 'State media said there were at least 770 dead and over 5,600 injured .',\n",
       " 'The March downturn was the only break in what has been broad growth in services for the past 15 months .',\n",
       " 'In the first three months of 2003 alone , weekly earnings adjusted for inflation fell 1.5 % -- the biggest drop in more than a decade , \" Lieberman said .',\n",
       " 'The statistical analysis was published Tuesday in Circulation , a journal of the American Heart Association ( news - web sites ) .',\n",
       " \"President George W. Bush and top administration officials cited the threat from Iraq 's banned weapons programs as the main justification for going to war .\",\n",
       " \"The epidemic began in November in the mainland 's Guangdong province , but the People 's Republic of China refused to report truthfully about its spread for four months .\",\n",
       " '\" This man gambled with our lives and we , the passengers , lost , \" said Andres Rivera Jr . , who was also on the bus .',\n",
       " \"IG Farben 's 500 properties were valued at around 38-million euros ( about R300-million ) and the firm had debts totalling about 28-million .\",\n",
       " \"The company 's operating loss rose 59 percent to $ 73 million , from $ 46 million a year earlier .\",\n",
       " 'The agent , Bassem Youssef , filed the lawsuit on Friday in Federal District Court for the District of Columbia .',\n",
       " '\" Smallpox is not the only threat to the public \\'s health , and vaccination is not the only tool for smallpox preparedness , \" Strom said .',\n",
       " 'Mr Abbas said : \" Every day without an agreement is an opportunity that was lost .',\n",
       " 'We remain hopeful that the city will agree to work with us and engage in good-faith discussions on this issue . \"',\n",
       " 'Later in the day , a standoff developed between French soldiers and a Hema battlewagon that attempted to pass the UN compound .',\n",
       " '\" By its actions , the Bush administration threatens to give a bad name to a just war , \" Lieberman said .',\n",
       " 'Gillette shares rose $ 1.45 , or 4.5 percent , to $ 33.95 in afternoon New York Stock Exchange trading .',\n",
       " 'Even without call center requests , companies using the handset option must have 95 percent of their customers using the technology by the end of 2005 .',\n",
       " 'About 120 potential jurors were being asked to complete a lengthy questionnaire .',\n",
       " \"Microsoft fell 5 percent before the open to $ 27.45 from Thursday 's close of $ 28.91 .\",\n",
       " 'U.S. Airways ordered 85 Bombardier jets with 50 seats and 75 seats and 85 Embraer jets with 70 seats , it said in a release .',\n",
       " \"The acquisition has been approved by both companies ' board of directors and is expected to close in the third quarter this year .\",\n",
       " 'The 39-year-old Luster initially gave police a false name , but later revealed his true identity .',\n",
       " 'In a statement distributed Friday , 28 Chechen non-governmental organizations said they would boycott the vote .',\n",
       " \"If the companies won 't , their drugs could be prescribed to Medicaid patients only with the state 's say-so .\",\n",
       " '\" It \\'s a huge black eye , \" said New York Times Company chairman Arthur Sulzberger .',\n",
       " 'Singer Brandy and her husband , Robert Smith , have called it quits .',\n",
       " 'She told Murray , \" We ... we have ... the fresh air is going down fast ! \"',\n",
       " '\" The president \\'s campaign in 2000 set a standard for disclosure in political fund raising , and the campaign will again in 2004 , \" Bush campaign spokesman Dan Ronayne said .',\n",
       " 'On April 11 , Mayor Bart Peterson said it was \" inconceivable \" that the airline would resume operations at the base that had employed 1,500 workers , including 1,100 mechanics .',\n",
       " 'Dotson was arrested Monday in his native Maryland and charged with murder .',\n",
       " 'Another was in serious condition at Northwest Medical Center in Springdale .',\n",
       " 'With the exception of dancing , physical activity did not decrease the risk .',\n",
       " 'The 1 5 / 8 percent note maturing in April 2005 gained 1 / 16 to 100 13 / 32 , lowering its yield 1 basis points to 1.41 percent .',\n",
       " \"Mr. Bush had sought to store his papers in his father 's presidential library , where they would have stayed secret for a half-century .\",\n",
       " 'Williams was White , and four of his victims were Black ; the fifth was White .',\n",
       " 'A hearing on the matter was held Thursday morning in Fulton County Superior Court , marking one of the early steps in deciding the case of Matthew Whitley .',\n",
       " 'Arts helped coach the youth on an eighth-grade football team at Lombardi Middle School in Green Bay .',\n",
       " 'Atlantic Coast will continue its operations as a Delta Connections carrier .',\n",
       " '\" It \\'s amazing to be part of an industry that rewards its young , \" said Hernandez , who is a recent graduate of Parsons School of Design .',\n",
       " 'The flamboyant entrepreneur flagged the plan after a meeting in London with Australian Tourism Minister Joe Hockey .',\n",
       " 'Ryan Harvey , an outfielder from Dunedin High School in Florida , was selected with the sixth pick by the Chicago Cubs .',\n",
       " \"At 8 a.m. Friday , San Joaquin County Sheriff 's deputies found the body of Adan Avalos , 37 .\",\n",
       " 'Technology stocks make up 42 percent of the Nasdaq , which fell 49.95 points , or 2.9 percent , to 1,698.02 .',\n",
       " \"Thomas was joined in full by Rehnquist , and in parts by O 'Connor and Scalia .\",\n",
       " 'The bulk of the funds , some $ 65 billion , will go for military operations in Iraq and Afghanistan .',\n",
       " 'The new capabilities will provide IBM customers a way to create , publish , manage and archive Web-based content within a corporate intranet , extranet and Internet environment .',\n",
       " 'When you crossed the line , you violated the constitutional right , \" said Charles Weisselberg , a UC Berkeley law professor .',\n",
       " 'A $ 500 million natural-gas-fired power plant , for example , could replace up to $ 100 million in boilers yearly without adding new smog controls .',\n",
       " 'On Sunday , the experts will perform the first simultaneous release of five whales from a single stranding incident in the United States .',\n",
       " \"Shares of AstraZeneca AZN.N , Europe 's second biggest drugmaker , rose 3.71 percent to close at $ 43.05 on the New York Stock Exchange .\",\n",
       " 'Gov. Rick Perry has said that while he opposes gambling expansion , he would be reluctant to veto continuation of the Lottery Commission .',\n",
       " '\" This blackout was largely preventable , \" Energy Secretary Spencer Abraham said .',\n",
       " 'Typhoon Maemi later moved out over the Sea of Japan , where it weakened considerably , the meteorology department said .',\n",
       " 'Along with chip.m.aker Intel , the companies include Sony Corp. , Microsoft Corp. , Hewlett-Packard Co . , International Business Machines Corp. , Gateway Inc . , Nokia Corp. and others .',\n",
       " \"Officials developed plans to burn about 2,000 acres of dense forest near the park 's southwest border by dropping incendiary devices , hoping to burn off fuel from the wildfire 's path .\",\n",
       " 'At last nights protest , demonstratorschanted \" tapping our phones , reading our mail , the LEIU should go to jail . \"',\n",
       " '\" It still remains to be seen whether the revenue recovery will be short-lived or long-lived , \" Mr. Sprayregen said .',\n",
       " 'Some 14,000 customers were without power in the area , Oklahoma Gas and Electric said .',\n",
       " '\" The SIA forecast reflects the new realities of the semiconductor industry of an 8-10 percent \" growth rate , George Scalise , the trade association \\'s president , said in a statement .',\n",
       " 'Eighty-six seriously wounded U.N. workers were airlifted out for medical care .',\n",
       " 'Burns believed that confessing a crime he did not commit was the only way out , Richardson said .',\n",
       " \"Phone calls to Spitzer 's office , Citigroup and Goldman Sachs were not immediately returned .\",\n",
       " 'Instead , the high court said that drug makers did not adequately show why the plan should be prevented from taking effect .',\n",
       " 'Medical experts said the condition was mildly worrying but easily-manageable .',\n",
       " \"Joan B. Kroc , the billionaire widow of McDonald 's Corp. founder Ray Kroc , died Sunday after a brief bout with brain cancer .\",\n",
       " 'The company has expanded into providing other services for buyers , including payment services .',\n",
       " 'A Lamar mother arrested Saturday in Colorado Springs is accused of drowning her two children in a bathtub before slitting her wrists .',\n",
       " 'She was surrounded by about 50 women who regret having abortions .',\n",
       " 'Revelations of the expenditures shocked some employees at Delta , an airline that is cutting jobs as it struggles with increased security costs and fewer passengers .',\n",
       " 'The search was concentrated in northeast Pennsylvania , but State Police Trooper Tom Kelly acknowledged that Selenski could have traveled hundreds of miles by now .',\n",
       " 'The calculation shows that the number of deaths from pneumonia and influenza have exceeded the usual number for recent weeks .',\n",
       " \"Researchers at Sweden 's Karolinska Institute reanalyzed data from more than 2,000 infants who had been treated with radiation for a benign birthmark condition between 1930 and 1959 .\",\n",
       " \"Outside the court , Sriyanto , who faces up to 25 years ' jail , denied he had done anything wrong .\",\n",
       " 'The state , which previously conducted two triple executions and two double executions , says the policy is designed to reduce stress on its prison staff .',\n",
       " \"The little girl , the daughter of a teller , was taken to the bank after a doctor 's appointment .\",\n",
       " 'At least 23 U.S. troops have been killed by hostile fire since Bush declared major combat in Iraq to be over on May 1 .',\n",
       " '\" Apple is working with Oxford Semiconductor and affected drive manufacturers to resolve this issue , which resides in the Oxford 922 chipset , \" the company said in a statement .',\n",
       " 'Even later in life , he was still cashing in : lately , he earned money by calling fans on the telephone with the service www.HollywoodIsCalling.com.',\n",
       " \"The transaction will expand Callebaut 's sales revenues from its consumer products business to 45 percent from 23 percent .\",\n",
       " 'A sign outside the Peachtree Restaurant reads : \" Pray for Eric Rudolph . \"',\n",
       " 'In a statement , the company said both bids would allow Vivendi to \" maintain a substantial minority interest in a U.S. media corporation with excellent growth potential . \"',\n",
       " 'In Vienna , the IAEA said ElBaradei would accept the invitation , although no date had yet been set .',\n",
       " 'Strikingly , the poll saw little difference between women and men in their feelings towards Mrs Clinton .',\n",
       " 'A 25 percent increase would raise undergraduate tuition to about $ 5,247 annually , including miscellaneous , campus-based fees .',\n",
       " 'From July 1 , 2002 , to June 30 , 2003 , the organization said it spent $ 114.3 million but took in only $ 39.5 million .',\n",
       " 'Hundreds of reporters and photographers swamped the courthouse grounds before the hearing , which was carried live on national cable networks .',\n",
       " 'The 20 master computers are located in the United States , Canada and Korea , Mr. Kuo said .',\n",
       " 'They said : “ We believe that the time has come for legislation to make public places smoke-free .',\n",
       " 'Milwaukee prosecutors charged a church minister with physical abuse in the death of an 8-year-old autistic boy who died during a healing service .',\n",
       " 'Niels told an interviewer in 1999 he thought the Old Man would outlive him by many years .',\n",
       " 'The new effort , Taxpayers Against the Recall , will be formally launched Wednesday outside a Sacramento fire station .',\n",
       " 'Furthermore , chest tightness after exercise and prevalence of asthma were both linked to the amount of time spent at the pool .',\n",
       " 'British police arrested 21 people early Tuesday in connection with the suspected ritual murder of an African boy whose torso was found in the Thames River .',\n",
       " 'Winners will be announced in a June 8 ceremony broadcast on CBS from Radio City Music Hall .',\n",
       " 'A lawsuit has been filed in an attempt to block the removal of the Ten Commandments monument from the building .',\n",
       " '\" I \\'m quite positive about it except I wouldn \\'t want it to cut across anything now occurring and she accepts that , \" he said .',\n",
       " '\" I started crying and yelling at him , \\' What do you mean , what are you saying , why did you lie to me ? \\' \"',\n",
       " 'Marisa Baldeo stated , however , the authority \\'s official uniform policy says \" they are not supposed to wear anything on their heads but a NYC transit depot logo cap .',\n",
       " \"The Dow Jones industrial average .DJI jumped 2.09 percent , while the Standard & Poor 's 500 Index .SPX leapt 2.23 percent .\",\n",
       " 'Between 50 and 100 persons die annually from these allergies , and thousands more suffer severe reactions such as constricted breathing and dramatic swelling .',\n",
       " 'Only Intel Corp. has a lower dividend yield .',\n",
       " 'Sean Harrigan of Calpers , the California fund , said : \" Today we are trying to pull the pig from the trough .',\n",
       " 'That truck was spotted in the Campbells Creek area , fitting that description , Morris said .',\n",
       " 'Initial autopsy reports show they died of dehydration , hyperthermia and suffocation .',\n",
       " 'Most of those on board were Lebanese but some were from Benin , Guinea and Sierra Leone .',\n",
       " 'A pamphlet will be issued to the public through major hardware chains , local libraries and on the EPA Web site : www.epa.gov.',\n",
       " \"The captain , Michael J. Gansas , was notified yesterday by the city 's Department of Transportation that an agency hearing officer recommended that he be fired .\",\n",
       " 'Since then , police divers have searched nearby parts of Long Island Sound looking for the remaining three .',\n",
       " 'Mr. Yandarbiyev resides in Doha , Qatar , and Russian authorities have unsuccessfully tried to have him extradited for nearly two years .',\n",
       " 'In December , he anticipated growth of 5.3 percent to nearly $ 154 billion .',\n",
       " 'Clearly Roman creams of any type do not normally survive in the archaeological record .',\n",
       " '\" I \\'m taking his office , and we \\'re gonna keep on building , \\' \\' he vowed . \"',\n",
       " \"SARS has killed 296 people on China 's mainland and infected more than 5,200 .\",\n",
       " '\" Third . . . we are not allowed to kill women , except those who join the war [ against Islam ] . \"',\n",
       " 'The company will launch 800 hot spots , or \" Wi-Fi Zones , \" later this summer , and plans to have more than 2,100 by the end of the year .',\n",
       " 'The virus spreads when unsuspecting computer users open file attachments in emails that contain familiar headings like \" Thank You ! \" and \" Re : Details \" .',\n",
       " 'From California , Bush flies to Japan on Thursday , followed by visits to the Philippines , Thailand , Singapore , Indonesia and Australia before returning home on Oct. 24 .',\n",
       " \"The transfers would reduce P & G 's worldwide work force to slightly less than 100,000 .\",\n",
       " 'Two Iraqis and two Saudis grabbed shortly after the blast gave information leading to the arrest of the others , said the official .',\n",
       " \"In court papers filed Tuesday , Lee asked for an injunction against Viacom 's use of the name , saying he had never given his consent for it to be used .\",\n",
       " 'The church was already grieving the death of Chief Warrant Officer 3 Kyran Kennedy , a congregation member who was killed in another helicopter crash in Iraq on Nov. 7 .',\n",
       " 'Glover said the killer used a \" peculiar slipknot \" on the ligature he used to strangle some of the victims .',\n",
       " 'They weighed an average 220 pounds ( 100 kg ) and needed to lose between 30 and 80 pounds .',\n",
       " '\" If it ain \\'t broke , don \\'t fix it , \" said Senate Minority Leader Tom Daschle , D-S.D. \" I don \\'t see much broken . \"',\n",
       " 'Media Editor Jon Friedman contributed to this story .',\n",
       " 'Her putt for birdie was three feet short but she saved par without difficulty .',\n",
       " 'The test was conducted by the University of California at Los Angeles and Riverside and was paid $ 450,000 from the ARB .',\n",
       " 'Against the Swiss franc CHF = , the dollar was at 1.3172 francs , down 0.60 percent .',\n",
       " \"Instead , Weida decided that Meester 's case on charges of rape , sodomy , indecent assault and providing alcohol to minors should proceed to a court-martial .\",\n",
       " 'The name for the robot , due to be launched at 2 : 05 p.m. , was selected from among 10,000 names submitted by U.S. school children .',\n",
       " 'Doris Brasher , who owns a grocery store near the police station , said many in the close-knit town knew the men who were killed .',\n",
       " '\" Craxi begged me to intervene because he believed the operation damaged the state , \" Mr Berlusconi said .',\n",
       " 'Mills affected by Thursdays announcement are sawmills in Grande Cache , Alta . , Carrot River , Sask . , Chapleau , Ont . , and Aberdeen , Wash .',\n",
       " 'It was the biggest protest since hundreds of thousands marched in outrage over the massacre of democracy activists occupying Tiananmen Square in Beijing in 1989 .',\n",
       " 'The company is highlighting the addition of .NET and J2EE support to its Enterprise Application Environment ( EAE ) with the new mainframe .',\n",
       " 'Gov. Linda Lingle and members of her staff were at the Navy base and watched the launch .',\n",
       " \"That information was first reported in today 's editions of the New York Times .\",\n",
       " 'The euro tagged another record high against the dollar on Tuesday as demand for higher-yielding euro-based assets overshadowed solid U.S. economic data .',\n",
       " 'The technology-laced Nasdaq Composite Index .IXIC rose 17.33 points , or 1.07 percent , to 1,640.13 .',\n",
       " '\" It \\'s going to happen , \" said Jim Santangelo , president of the Teamsters Joint Council 42 in El Monte .',\n",
       " 'The seizure occurred at 4am on March 18 , just hours before the first American air assault .',\n",
       " 'Bloomberg said on Wednesday that all 16 crew members survived and would be tested for drugs and alcohol .',\n",
       " 'The moment of reckoning has arrived for this West African country founded by freed American slaves in the 19th century .',\n",
       " 'However , commercial use of the 2.6.0 kernel is still months off for most customers .',\n",
       " 'The Hulk weekend take surpasses the previous June record of $ 54.9-million for Austin Powers : The Spy Who Shagged Me .',\n",
       " 'The time was about 4 a.m. on March 18 , just hours before the first pinpoint missiles rained down on the capital .',\n",
       " 'Its attackers had to fire their rockets from hundreds of yards away , with a makeshift launcher hidden in a portable electric generator .',\n",
       " 'In early U.S. trade , the euro was down 1.06 percent at $ 1.1607 < EUR = > .',\n",
       " '\" Deviant cannibalistic tendencies \" were the primary motivation for the murders , and Brown \\'s body was mutilated , authorities said .',\n",
       " 'Also Tuesday , a soldier drowned in an aqueduct in northern Iraq .',\n",
       " \"Hunt 's attorneys filed a motion late Monday in Forsyth Superior Court to have Hunt 's murder conviction thrown out .\",\n",
       " 'Other data showed that buyers snapped up new and existing homes at a brisk pace in April , spurred by low mortgage rates .',\n",
       " \"But Close wondered whether the package would be worth the cost of licensing the third-party software , along with Salesforce.com 's rental price .\",\n",
       " 'Still others cite the difficulty of assembling a group of subjects whose depression is of comparable severity , increasing the chances that the effectiveness of the medication will be diffused .',\n",
       " '\" I have always tried to be honest with you and open about my life , \" Mr. Limbaugh told his audience , which numbers 22 million listeners a week .',\n",
       " 'That \\'s the highest third-quarter growth rate we \\'ve seen in over 25 years , \" said Andy Bryant , Intel \\'s chief financial officer .',\n",
       " 'Seattle Deputy Police Chief Clark Kimerer said the exercise here went well , with some aspects , including the communication system linking various agencies , working better than expected .',\n",
       " 'Telecommunications gear maker Lucent Technologies is being investigated by two federal agencies for possible violations of U.S. bribery laws in its operations in Saudi Arabia .',\n",
       " '\" This sale is part of our efforts to simplify our Foodservice Products business and improve its cost structure , \" Multifoods chairman and chief executive officer Gary Costley said .',\n",
       " 'Three-year-old Jaryd Atadero vanished on Oct. 2 , 1999 while on a hiking trip with a church group .',\n",
       " 'A DOD team is working to determine how hackers gained access to the system and what needs to be done to fix the breach .',\n",
       " \"Parrado 's aunt believes her nephew , who has served a prison sentence in Cuba , will be persecuted if he is repatriated .\",\n",
       " 'The Securities and Exchange Commission yesterday said companies trading on the biggest U.S. markets must win shareholder approval before granting stock options and other stock-based compensation plans to corporate executives .',\n",
       " 'Microsoft is preparing to alter its Internet Explorer browser , following a patent verdict that went against the company , Microsoft said Friday .',\n",
       " '\" It \\'s routine for IBM to challenge its internal IT teams to rigorously test new platforms and technologies inside IBM , \" she said .',\n",
       " 'Nearly 6,000 MTA drivers and train operators joined the mechanics in the picket line .',\n",
       " 'The tech-laced Nasdaq Composite Index .IXIC shed 23.45 points , or 1.44 percent , to end at 1,603.97 , based on the latest data .',\n",
       " 'The Infineon case began in August 2000 , when Rambus accused Infineon of patent infringement and Infineon counter-sued Rambus for breach of contract and fraud .',\n",
       " 'Low-income earners would pay a 5 percent tax on both types of investment income .',\n",
       " 'The technology-laced Nasdaq Composite Index .IXIC was off 5.53 points , or 0.33 percent , at 1,662.91 .',\n",
       " '\" The Princess \\' marriage was not set up by force , \" said Vasile Ionescu , of the Roma Centre for public policies .',\n",
       " 'Lord of the Rings director Peter Jackson and companion Fran Walsh arrive at the 74th Annual Academy Awards .',\n",
       " 'Hynix CEO E.J. Woo condemned the decision calling the ruling an \" outrageous act aimed at a hidden agenda . \"',\n",
       " \"The U.S. Food and Drug Administration rejected ImClone 's original application in December 2001 , saying the trial had been sloppily conducted .\",\n",
       " 'Gen. Sattler heads a Combined Joint Task Force based on ship in the Gulf of Aden and the Indian Ocean .',\n",
       " 'Massachusetts Attorney General Tom Reilly said he was satisfied with the reimbursement .',\n",
       " 'AutoAdvice is available as a one-year subscription at $ 400 per CPU , scaling from one to 50,000 CPUs .',\n",
       " 'CAPPS II will not use bank records , records indicating creditworthiness or medical records . \"',\n",
       " 'Moore had no immediate comment Tuesday .',\n",
       " '\" Fewer than 10 \" FBI offices have conducted investigations involving visits to mosques , the Justice Department said .',\n",
       " \"Moore of Alabama says he will appeal his case to the nation 's highest court .\",\n",
       " '\" We \\'re confident that the new leadership will take responsibility for the past actions of the Archdiocese of Boston , \" Lincoln said .',\n",
       " 'Her body was found several weeks later in the Green River .',\n",
       " 'One question was whether France , which infuriated Washington by leading the charge against U.N. authorization for the war , would vote \" Yes \" or abstain .',\n",
       " 'Money from Iraqi oil sales will go into that fund which will be controlled by the United States and Britain and used to rebuild the country .',\n",
       " 'Car volume fell 8 per cent , while light truck sales -- which include vans , pickups and SUVs -- rose 2.7 per cent .',\n",
       " 'He said he had made it \" very plain \" to the US that Australia did not support the death penalty .',\n",
       " 'Special police detained Khodorkovsky early on Saturday in the Siberian city of Novosibirsk , where his plane had made a refuelling stop .',\n",
       " \"Robert Stewart , a spokesman for Park Place , the parent company of Caesars Palace , said he was surprised by the court 's decision .\",\n",
       " \"He has also served on the president 's Homeland Security Advisory Council .\",\n",
       " \"Altria shares fell 2.2 percent or 96 cents to $ 42.72 and were the Dow 's biggest percentage loser .\",\n",
       " '\" And if there is a leak out of my administration , \" he added , \" I want to know who it is .',\n",
       " 'Mascia-Frye works in the state development office .',\n",
       " 'Representatives for Puretunes could not immediately be reached for comment Wednesday .',\n",
       " \"A key to that effort was the company 's introduction of a 10-year , 100,000-mile warranty , meant to reassure buyers that they could trust the Korean company .\",\n",
       " 'ECUSA is the U.S. branch of the 70 million-member Anglican Communion .',\n",
       " 'The word Advent , from Latin , means \" the coming . \"',\n",
       " 'The companies said \" it was not our intention to target or offend any group or persons or to incite hatred or violence . \"',\n",
       " 'Another brother , Ali Imron , was sentenced to life in prison after cooperating with investigators and showing remorse .',\n",
       " 'Most times , wholesalers sold the questionable drugs to one of three huge national distributors that supply virtually all drugs in the country .',\n",
       " 'He said it was not possible to rule out that the chemical was a cancer risk to humans .',\n",
       " \"Attorney John Barnett , who represents Morse , showed photos of a scratch on Morse 's neck and the officer 's bloody ear .\",\n",
       " 'The letter stated that a premature stillborn baby was placed on the bed in a blanket .',\n",
       " 'Galveston County District Attorney Kurt Sistrunk said his office received the recordings this week .',\n",
       " '\" This is a wide-ranging and continuing investigation which is likely to result in numerous other charges , \" Mr Spitzer said .',\n",
       " 'In early afternoon trading , the Dow Jones industrial average was up 7.58 , or 0.1 percent , at 9,381.79 .',\n",
       " 'Kyi , a U.N. envoy says , as Japan adds to growing international pressure by saying it will halt its hefty economic aid unless Suu Kyi is freed .',\n",
       " 'The decision could also prove useful in the \" war on terrorism \" .',\n",
       " \"Currently , the state 's congressional delegation is made up of 17 Democrats and 15 Republicans .\",\n",
       " 'In the first stage of the attack , the Lovsan worm began fouling computers around the world .',\n",
       " 'U.S. Agriculture Secretary Ann Veneman , who announced Tuesdays ban , also said Washington would send a technical team to Canada to help .',\n",
       " 'Only 29 families of frogs are known and most were identified and described in the mid-1800s and the last in 1926 .',\n",
       " 'The survey that found it covered only a narrow slice of the sky .',\n",
       " 'However , the standards body warns that changes to Internet Explorer may affect a \" large number \" of existing Web sites .',\n",
       " 'Both Blair and Bush have faced accusations that they manipulated intelligence about weapons of mass destruction to make the case for military action .',\n",
       " '\" I think 70 percent of the work is already done , \" Tauzin told reporters in the Capitol .',\n",
       " '\" We must defend those whom we dislike or even despise , \" said Neal R. Sonnett , a Miami lawyer who led an association panel on enemy combatants .',\n",
       " 'Likewise , the 30-year bond US30YT = RR slid 23 / 32 for a yield of 4.34 percent , up from 4.30 percent .',\n",
       " 'China has threatened to execute or jail for life anyone who breaks their quarantine and intentionally spreads the killer SARS virus .',\n",
       " 'Earlier , they had defied a police order and cried \" Allahu Akbar \" ( God is Greatest ) as Bashir walked to his seat in the tightly guarded courtroom .',\n",
       " 'The announcement comes one day after Microsoft ’ s global security chief , Scott Charney , reiterated Microsoft ’ s promises to simplify the way it distributes patches to users .',\n",
       " 'The fighting around Bunia began after neighboring Uganda completed the withdrawal of its more than 6,000 soldiers from the town .',\n",
       " \"An officer in the People 's Liberation Army selected from a pool of 14 , Lt-Col Yang is the son of a teacher and an official at an agricultural firm .\",\n",
       " 'The Yankees , however , had big trouble handling Victor Zambrano ( 4-4 ) for the second straight time .',\n",
       " 'A former candidate for governor of New York , he styled himself an advocate of better corporate governance .',\n",
       " 'Yeager said the suspect in the Target attack showed tendencies of being a prior offender .',\n",
       " 'Tenet has been under scrutiny since November , when former Chief Executive Jeffrey Barbakow said the company used aggressive pricing to trigger higher payments for the sickest Medicare patients .',\n",
       " 'His decision means that the case against Gary Lee Sampson , including the capital charges against him , will be tried in September .',\n",
       " \"Meanwhile , rival contender , General Electric 's NBC , submitted a letter of interest , a source familiar with the matter said .\",\n",
       " \"Freeman 's civil hearing may be , on the surface , about a driver 's license .\",\n",
       " '\" This deal makes sense for both companies , \" Brian Halla , National \\'s chief executive , said in a statement .',\n",
       " 'The priest , the Rev. John F. Johnston , 64 , of 35th Avenue in Jackson Heights , was charged with aggravated harassment and criminal possession of a weapon .',\n",
       " '\" Qualcomm has enjoyed many years of selling ... against little or no competition , \" Hubach said in the statement .',\n",
       " 'That state will not emerge until the interim government decides on a process for writing a new constitution and for holding the first democratic elections .',\n",
       " 'Sendmail said the system can even be set up to permit business-only usage .',\n",
       " 'The Senate Armed Services Committee will hold a separate hearing Thursday .',\n",
       " 'The telephone survey had a margin of error of 2 percentage points .',\n",
       " \"Tonight , 21-year-old Morgan and as many as 1,200 fellow students at Wheaton College will gather in the gym for the first real dance in the school 's 143-year history .\",\n",
       " \"The bodies of former Invercargill man Warren Campbell , 32 , and climbing companion Jonathan Smith , 47 , were recovered from below Mt D 'Archiac late yesterday morning .\",\n",
       " 'In 2001 , President Bush named Kathy Gregg to the Student Loan Marketing Association board of directors .',\n",
       " 'Beckham will receive a yearly salary of $ 10 million plus bonuses , earning him about $ 220,000 a game .',\n",
       " 'Deaths in rollover crashes accounted for 82 percent of the number of traffic deaths in 2002 , the agency says .',\n",
       " \"This week 's tour will take Bush to Senegal , South Africa , Botswana , Uganda and Nigeria , and is aimed at softening his warrior image at home and abroad .\",\n",
       " 'Executive recruiters say that finding a seasoned chief merchandising officer will perhaps be the trickiest of all hires because there is such a dearth of good ones .',\n",
       " '\" We have sent a message to the nation that this is a new Louisiana , \" she told a victory party in New Orleans .',\n",
       " 'Five more human cases of West Nile virus , were reported by the Mesa County Health Department on Wednesday .',\n",
       " 'It said the operation , which began on Monday , was part of \" the continued effort to eradicate Baath Party loyalists , paramilitary groups and other subversive elements . \"',\n",
       " \"NBC probably will end the season as the second most popular network behind CBS , although it 's first among the key 18-to- 49-year-old demographic .\",\n",
       " \"In Europe , France 's CAC-40 rose 0.6 percent , Britain 's FTSE 100 slipped 0.02 percent and Germany 's DAX index advanced 0.8 percent .\",\n",
       " 'Advancing issues outnumbered decliners about 8 to 5 on the New York Stock Exchange .',\n",
       " 'Some 660 prisoners from 42 countries , including Canada , are held , many captured during the war against in Afghanistan the al-Qaida network .',\n",
       " '\" Beginning ; early stages ; not life-threatening ; treatable , \" he said at a news conference at the Capitol .',\n",
       " 'Oracle \\'s offer \" undervalues the company and is not in the best interest of stockholders , \" PeopleSoft CEO Craig Conway said .',\n",
       " 'Bryant surrendered to authorities on Friday and posted a $ 25,000 bond .',\n",
       " 'Roberson was bitten on the back and scratched on the leg , according to her mother , Shamika Woumnm of Dorchester .',\n",
       " 'He says information released about a tarot card left at one shooting scene may have prolonged the spree by cutting off fragile communications with the sniper .',\n",
       " \"It was the 23-9 Yankees ' third straight defeat - their longest skid of the season .\",\n",
       " 'Solomon 5.5 is available initially in the United States and Canada , for a starting price of about $ 12,700 .',\n",
       " 'The report released Monday simply says , This report does not attempt to address the complexities of this issue .',\n",
       " 'The SEC said on Thursday its staff was preparing to draw up rules to combat trading abuses .',\n",
       " \"History will remember the University of Washington 's Dr. Belding Scribner as the man who has saved more than a million lives by making long-term kidney dialysis possible .\",\n",
       " 'In the United States , 20.7 percent of all women smoke .',\n",
       " 'But he will meet the French President , Jacques Chirac , privately .',\n",
       " \"He is temporarily serving as Chechnya 's acting president while his boss , Akhmad Kadyrov , is on the campaign trail .\",\n",
       " 'The technology-laced Nasdaq Composite Index dipped 0.08 of a point to 1,646 .',\n",
       " 'The hearing came one day after the Pentagon for the first time singled out an officer , Dallager , for failing to address the scandal .',\n",
       " \"Chechen officials working for the Moscow-backed government are a frequent target for rebels and tension is running high ahead of next Sunday 's presidential election in war-torn Chechnya .\",\n",
       " 'Columbia was destroyed during re-entry Feb. 1 , killing its seven astronauts .',\n",
       " \"Feral 's group was behind a successful tourism boycott about a decade ago that resulted in then-Gov . Walter J. Hickel imposing a moratorium on wolf control in 1992 .\",\n",
       " 'She concludes that what her husband did was morally wrong but not a betrayal of the public .',\n",
       " 'Sen. Bob Graham , Florida Democrat , raised $ 2 million after getting a late start .',\n",
       " 'The exam contains four sections and tests a students knowledge of algebra and geometry as well as probability and statistics .',\n",
       " 'Top U.S. executives are feeling increasingly sunny about business conditions and corporate profits , according to a survey released Monday .',\n",
       " 'Massachusetts is one of 12 states that does not have the death penalty , having abolished capital punishment in 1984 .',\n",
       " \"Taylor 's aides warn an abrupt departure could trigger more chaos , a view shared by many in Liberia and , in private , even by mediators .\",\n",
       " 'Recall advocates say they have turned in 1.6 million signatures to counties .',\n",
       " 'Mr. Gettelfinger said at that news conference that \" we are going to continue to hammer away at the negotiations process until we reach an agreement , \" with Ford and G.M.',\n",
       " 'Country-music station KKCS has suspended two disc jockeys for playing songs by the Dixie Chicks in violation of a ban imposed after one group member criticized President George Bush .',\n",
       " 'Their difference was over whether the court should pay attention to legal opinions of other world courts , such as the European Court of Human Rights .',\n",
       " \"It 's also a strategic win for Overture , given that Knight Ridder had the option of signing on Google 's services .\",\n",
       " 'BOSTON The Catholic archdiocese in Boston has offered $ 55 million to settle more than 500 clergy sex abuse lawsuits , according to a document obtained by The Associated Press .',\n",
       " 'Lewis said that the third-quarter results were driven by deposit and loan growth , strong investment banking and trading results , and improved mortgage and card revenues .',\n",
       " 'Swedish telecom equipment maker Ericsson ( nasdaq : QCOM - news - people ) scrambled up $ 2.19 , or almost 12 percent , to $ 20.59 .',\n",
       " 'They were not supplied or given to us but unearthed by our reporter , David Blair , in the Foreign Ministry in Baghdad . \"',\n",
       " 'Congress twice before passed similar restrictions , but President Bill Clinton vetoed them .',\n",
       " 'Brian Brabazon said his son would get upset but then turn around and befriend his taunters .',\n",
       " 'At his sentencing , Avants had tubes in his nose and a portable oxygen tank beside him .',\n",
       " \"McKnight 's lawyers say there is no proof her cocaine use caused the child 's death .\",\n",
       " 'The number of extremely obese American adults - those who are at least 100 pounds overweight - has quadrupled since the 1980s to about 4 million .',\n",
       " \"The verbal flareup with Keating stemmed from Cardinal Mahony 's initial refusal to participate in that survey unless procedures were changed .\",\n",
       " 'An animal rights group waited Friday to find out if it has succeeded in putting a stop to a state-sponsored program allowing hunters to shoot wolves from airplanes in Alaska .',\n",
       " 'The CFTC has been investigating several energy companies , including at least three Colorado companies , for manipulating energy markets by reporting false natural-gas trading prices to industry publications .',\n",
       " '\" In relation to the second paper , one part of that should have been sourced to a reference work .',\n",
       " 'The court then stayed that injunction , pending an appeal by the Canadian company .',\n",
       " \"He was eventually taken to London 's Hammersmith hospital , where doctors regulated Blair 's heart beat via electric shock .\",\n",
       " 'Under the legislation , a physician who performs the procedure could face up to two years in prison .',\n",
       " 'Dotson was taken to Chester River Hospital Center where he stayed overnight .',\n",
       " 'When police removed the four from the home , they weighed 136 pounds combined .',\n",
       " \"The second company , temporarily dubbed ``InternationalCo . ' ' , includes 19 international power and pipeline holdings .\",\n",
       " 'He was convicted by a Ventura County Superior Court jury and sentenced in absentia to 124 years in prison .',\n",
       " 'The draft of the report was forthright : \" Climate change has global consequences for human health and the environment . \"',\n",
       " 'Civilian reservists also could be sent overseas for jobs such as the reconstruction of Afghanistan and Iraq .',\n",
       " 'Westfield , which owns Galleria in Morley , also will continue discussions about the other co-owned centres such as Knox City in Melbourne , half-owned by Deutsche Bank .',\n",
       " 'Last year Bloomberg boycotted the parade because he wanted to march with two actors from \" The Sopranos . \"',\n",
       " 'Federal agents said Friday they are investigating the theft of 1,100 pounds of an explosive chemical from construction companies in Colorado and California in the past week .',\n",
       " 'Like-for-like sales for the 17 weeks to 27 December were flat , while the gross margin fell by 2 percentage points , the company said .',\n",
       " 'Investigators were searching his home in Muenster in the presence of his wife when news of his death came , prosecutor Wolfgang Schweer told The Associated Press .',\n",
       " '\" What this allows us to do is have a crossover that is much more fuel efficient and aimed at young families . \"',\n",
       " 'The teen was in surgery at Sacred Heart Medical Center , and the extent of his injuries was not available , Bragdon said .',\n",
       " 'The goal will be to reduce congestion by upgrading road , building tollways , facilitating public transit or any other means to improve mobility .',\n",
       " 'The conservancy helped in the purchase of the land from the Estate of Samuel Mills Damon for $ 22 million .',\n",
       " 'Sir Paul already has three children fashion designer Stella , 31 , Mary , 33 , and James , 25 by his wife Linda , who died from breast cancer in 1998 .',\n",
       " 'In recent years , Mr. Hampton continued to run into trouble , facing charges of fare-beating and credit-card theft .',\n",
       " 'SCO has also alleged that the generic Linux kernel contains code which is from its Unix property .',\n",
       " \"But Amrozi did not reveal and was not asked the company 's or his boss 's name .\",\n",
       " 'General Jeffery announced he would give his substantial military pension accumulated over 40 years to charity during his stay at Government House .',\n",
       " 'The rest said they belonged to another party or had no affiliation .',\n",
       " 'Blair himself took the reins of the Labour Party after its leader John Smith died of a heart attack in 1994 .',\n",
       " 'In 2002 , for example , the Dow dropped more than 1,500 points , or 15.6 percent , between May and October , due largely to terrorism fears driven by headlines .',\n",
       " 'The House and Senate are expected to vote on the omnibus bill in the next two months .',\n",
       " 'She said six were from Douglas County , the southwestern Oregon county that includes Roseburg , and two were from the Portland area .',\n",
       " 'PeopleSoft gained 94 cents , or 5.5 percent , to $ 18.09 .',\n",
       " 'A rival distributor , Mike Selwyn from United International Pictures , says that unlike The Matrix Revolutions , he cannot detect any advance scepticism , even within the business .',\n",
       " '\" The law has several weaknesses which terrorists could exploit , undermining our defenses , \" Ashcroft said .',\n",
       " '\" Canada is a small country , and it needs companies like this , deals like this . \"',\n",
       " 'Revenue rose to $ 616.5 million from $ 610.6 million a year earlier .',\n",
       " 'The winner of the Williams-Mauresmo match will play the winner of Justine Henin-Hardenne vs. Chanda Rubin .',\n",
       " '\" By its actions , the Bush administration threatens to give a bad name to a just war , \" the Connecticut Democrat told a Capitol Hill news conference .',\n",
       " 'I urge Congress to quickly resolve any differences and send me the final bill as soon as possible so that I can sign it into law . \"',\n",
       " 'The House passed a similar measure by a wide margin on Sept . 9 .',\n",
       " 'Reuters reported Braun ended June with $ 22,126 in the bank , according to her FEC report , and the Rev. Al Sharpton reported $ 12,061 in the bank .',\n",
       " 'After learning she would no longer get an experimental drug that treated her severe peanut allergy , Allison Smith reacted with panic .',\n",
       " 'Darren Dopp , a Spitzer spokesman , declined to comment late Thursday .',\n",
       " 'Using bookmarks and back and forth buttons - we had about eighteen different things we had in mind for the browser , \" he told an industry audience in London yesterday .',\n",
       " 'Against the dollar , the euro rose as high as $ 1.1535 -- a fresh four-year high -- in morning trade before standing at $ 1.1518 / 23 at 0215 GMT .',\n",
       " 'Three American warships are off the Liberian coast carrying a total of 2,300 marines .',\n",
       " 'Those involved were allegedly told to never speak of the incident again , according to the letter .',\n",
       " 'Shares of Berkeley , California-based Xoma dropped $ 1.49 or 27 percent , to $ 4 in Instinet trading .',\n",
       " '\" Removing the waiver means nothing when Oracle still has pending litigation in Delaware that opposes the PeopleSoft / J.D. Edwards transaction , \" PeopleSoft responded .',\n",
       " \"At best , Davydenko 's supporters were naively ignorant of tennis etiquette ; at worst , they cheated - yet went without penality from umpire Lars Graf .\",\n",
       " \"The Pentagon says it 's a technique that 's been successful in predicting elections , even box-office receipts .\",\n",
       " 'Treatment guidelines , many written by medical-specialty organizations , recommend approaches to many ailments , such as painkillers and exercise for arthritis .',\n",
       " 'After three months , Atkins dieters had lost an average of 14.7 pounds compared with 5.8 pounds in the conventional group .',\n",
       " '\" It \\'s probably not the easiest time to come in and take over the shuttle program , but I look forward to the challenge , \" Parsons told reporters at NASA headquarters .',\n",
       " 'None of Deans opponents picked him as someone to party with , nor was Dean asked that question .',\n",
       " 'Mr. Kozlowski contends that the event included business and that some of those attending were Tyco employees .',\n",
       " 'The Mariners torched Randy Choate and Juan Acevedo in the eighth for four runs and a 12-5 bulge .',\n",
       " 'In a statement , the Redmond , Wash . , company said that it was acquiring the \" intellectual property and technology assets \" of GeCAD .',\n",
       " 'The horrific nature of the attacks is often fueled by a mix of tribal hatreds and a desire to spread terror in the region .',\n",
       " 'The Ireland Palestine Solidarity Campaign , of which Mr O Muireagáin was a member , welcomed his release .',\n",
       " 'A spokeswoman for Interscope Geffen A & M declined to confirm how many employees were affected .',\n",
       " 'In that same time , the S & P and the Nasdaq have gained about 3.5 percent .',\n",
       " 'On Monday , U.S. Army Pfc. Jessica Lynch was awarded the Bronze Star , Purple Heart and Prisoner of War medals at Walter Reed Army Medical Center .',\n",
       " 'He urged member states that contribute police and soldiers to U.N. peacekeeping operations to provide more women .',\n",
       " 'Other changes in the plan refine his original vision , Libeskind said .',\n",
       " 'The new contract extends the guarantee that his annual pay and bonus will be at least $ 2.4 million a year .',\n",
       " 'A rebel who was captured said more than 2,000 insurgents were involved in the attack .',\n",
       " 'Under Kansas law , it is illegal for children under the age of 16 to have sexual relations .',\n",
       " 'Aside from meeting Chinese Premier Wen Jiabao on the sidelines of the Forum , Mr Goh also met Pakistani President Pervez Musharraf and Tajikistan President Emomali Sharipovich Rakhmonov .',\n",
       " \"Fires in Spain 's Extremadura region , which borders Portugal , have forced hundreds of people to evacuate their homes .\",\n",
       " 'On a planet that takes nearly 165 years to orbit the sun , spring can last more than 40 years .',\n",
       " \"SSE CEO Marchant said he would sell on Midlands ' power generation assets in Turkey and Pakistan to fellow British utility International Power Plc IPR.L for 21 million pounds .\",\n",
       " 'Crossing Jordan will be back in January after star Jill Hennessy gives birth .',\n",
       " 'Yale spokesman Tom Conroy said the university was prepared to keep the campus running with temporary workers and managers doing extra work .',\n",
       " 'A member of the chart-topping collective So Solid Crew dumped a loaded pistol in an alleyway as he fled from police , a court heard yesterday .',\n",
       " 'They passed through the Lemelson Medical , Educational and Research Foundation Limited Partnership in 2001 to Syndia .',\n",
       " 'Shares of USA Interactive rose $ 2.28 , or 7 percent , to $ 34.96 on Friday in Nasdaq Stock Market composite trading and have gained 53 percent this year .',\n",
       " 'We believe them to be without merit , and will defend ourselves vigorously .',\n",
       " 'The Russell 2000 index , which tracks smaller company stocks , was up 1.02 , or 0.21 percent , at 496.83 .',\n",
       " 'The law does not regulate how much individuals can contribute to their own campaigns , a decided advantage for millionaires like Mr. Schwarzenegger and Mr. Ueberroth , both Republican candidates .',\n",
       " 'Dixon put his style on display Sunday afternoon in winning the Honda Indy 225 at Pikes Peak International Raceway .',\n",
       " 'In a statement later , he said it appeared his side may have fallen a bit short .',\n",
       " 'Among the most recent additions to the list , which to date includes more than 360 groups and individuals , is Zelimkhan Yandarbiev , the former president of Chechnya .',\n",
       " 'As of Tuesday , almost 250 health-care workers were in quarantine .',\n",
       " 'About 1,000 people attended the ceremony , kicking off two days of observances tied to the March on Washington .',\n",
       " 'Second quarter sales came in at $ 645 million , up from $ 600 million the year before , AMD said .',\n",
       " \"The other 18 people inside the building - two visitors and 16 employees , including Harrison 's ex-girlfriend - escaped without injury , Aaron said .\",\n",
       " 'Southwest exercised nine 2004 options and six 2005 options , which were accelerated for delivery next year .',\n",
       " 'Professor Hermon-Taylor adds , An unexpected finding of the research showed that patients suffering with Irritable Bowel Syndrome ( IBS ) were also infected with the MAP bug .',\n",
       " 'Preliminary reports were that the men were not seen together at the airport , sources said .',\n",
       " 'Details of the research appear in the Nov. 5 issue of the Journal of the American Medical Association .',\n",
       " 'Six countries have advised their citizens not to travel to Taiwan for any reason , the ministry said .',\n",
       " 'The technology-laced Nasdaq Composite Index < .IXIC > tacked on 5.91 points , or 0.29 percent , to 2,053.27 .',\n",
       " 'United Airlines plans to become the first domestic airline to offer e-mail on all its domestic flights by the end of the year , the company announced yesterday .',\n",
       " \"Volodymyr Gorbanovsky , deputy general director of the plane 's owners , Mediterranean Airlines , said it appeared to have veered from its flight path because of the fog .\",\n",
       " 'Meteorologists predicted the storm would become a Category 1 hurricane before landfall .',\n",
       " \"I called the number and the lady told me she was talking on the phone to Toby Studabaker , ' ' Sherry Studabaker told BBC television .\",\n",
       " 'Sweeney said he would formally announce the formation of the new union on Wednesday in Detroit .',\n",
       " 'Shares in Safeway rose 1-1 / 4p to 290-1 / 2p while Morrison shares rose 1-3 / 4p to 222-3 / 4p in early morning trade .',\n",
       " 'Emeryville-based Ask Jeeves agreed to sell a business software division to a Sunnyvale-based rival , Kanisa , for $ 4.25 million .',\n",
       " '\" I picked prostitutes as my victims because I hate most prostitutes and I did not want to pay them for sex . \"',\n",
       " 'A positive PSA test has to be followed up with a biopsy or other procedures before cancer can be confirmed .',\n",
       " 'But Mr. Peterson added , \" I don \\'t know anybody in the conference committee who \\'s fighting to keep it out completely . \"',\n",
       " 'The technology-heavy Nasdaq Composite Index gained 25.75 points , or 1.5 percent , to 1,746.46 , its highest close in about 15 months .',\n",
       " 'In 1998 Intel invested $ 500 million in Micron , but later sold the equity it had bought , Mulloy said .',\n",
       " 'So far , however , only four companies have licensed the protocols , according to the report to the judge yesterday .',\n",
       " 'The speaker issued a one-paragraph statement , saying , \" I am advised that certain allegations of criminal conduct have been interposed against my counsel , J. Michael Boxley .',\n",
       " 'In the second quarter , Anadarko now expects volume of 46 million BOE , down from 48 million BOE .',\n",
       " \"The Institute for Supply Management 's manufacturing index dipped to 53.7 from 54.7 in August .\",\n",
       " 'It got up on his personal radar screen this past week , I \\'ve given him my pitch and he was quite supportive , \" he said .',\n",
       " '\" It \\'s just too important to keeping crime down , \" he said of Operation Impact , which began Jan. 3 .',\n",
       " 'The couple was granted an annulment in September 2001 and Joanie Harper was given sole custody of Marques and Lyndsey , court records show .',\n",
       " \"Iraq 's economy was ravaged during years of U.N. sanctions over ex-president Saddam Hussein 's 1990 occupation of Kuwait and by the U.S.-led war to oust him which ended in April .\",\n",
       " \"Nationwide , severe acute respiratory syndrome has infected more than 5,300 people , about two-thirds of world 's total , and killed 343 of them .\",\n",
       " 'Under the settlement , Solutia will pay $ 50 million in equal installments over a period of 10 years .',\n",
       " 'Smith found the cigarette tax falls on the tobacco consumer , not the tribe , meaning the tribe is simply an agent for collecting a tax .',\n",
       " 'Hoffa , 62 , vanished on the afternoon of July 30 , 1975 , from a Bloomfield Township parking lot in Oakland County , about 25 miles north of Detroit .',\n",
       " \"After Mao 's death in 1976 , Madame Mao was sentenced to life imprisonment for her role in the oppressive Cultural Revolution .\",\n",
       " 'Six vehicles , including one belonging to the army , were damaged in the powerful explosion .',\n",
       " 'If convicted , they face up to five years in prison and a $ 250,000 fine on each of the 11 counts .',\n",
       " \"There will be no vote on the issue but those opposed to Robinson 's appointment are thought to outnumber those who accept it by around 20 to 17 .\",\n",
       " '\" Writing safe programs that demonstrate an infection vector is adequate [ to demonstrate a vulnerability ] without building in the reproductive sequences .',\n",
       " \"In other words , Cablevision is obligated to pay for YES Network 's lawsuit against Time Warner Cable .\",\n",
       " \"Germany 's Foreign Ministry said it believed the passengers were from the northern states of Lower Saxony and Schleswig-Holstein , but had no further details .\",\n",
       " \"A gunman who had ``a beef with the Postal Service ' ' stormed into a suburban post office and took two employees hostage Wednesday , authorities said .\",\n",
       " 'The agency will \" consider as timely any tax returns or payments due \" Aug. 15 if they are submitted by Aug. 22 .',\n",
       " 'Appleton said police continue to hold out the possibility that more than one person was involved in the poisonings .',\n",
       " '\" My judgment is 95 percent of that information should be declassified , become uncensored , so the American people would know . \"',\n",
       " 'Shares of Microsoft fell 1 cent to close at $ 25.65 on the Nasdaq Stock Market .',\n",
       " 'His other films include \" Malcolm X , \" \" Summer of Sam \" and \" Jungle Fever . \"',\n",
       " 'She was arraigned in New York state on three counts of murder and ordered held without bail .',\n",
       " 'He acted as an international executive producer on Who Wants to be a Millionaire and The Weakest Link .',\n",
       " 'After 9 / 11 , Connolly said , agents spent thousands of hours investigating al-Bayoumi .',\n",
       " 'The Dow Jones industrial average fell 98.30 , or 1.1 percent , while bond values fell , too .',\n",
       " \"Proving that the Millville son 's sacrifice would not go unsung , Mayor James Quinn ordered all city flags flown at half-mast for the next 30 days .\",\n",
       " \"With an estimated net worth of $ 1.7 billion , Mrs. Kroc ranked No. 121 on Forbes magazine 's latest list of the nation 's wealthiest people .\",\n",
       " 'The biggest threat to order seemed to be looting and crime , including robberies by some of the prisoners freed by Saddam before the war .',\n",
       " 'Pratt & Whitney had said that 75 per cent of the engine equipment would be outsourced to Europe , with final assembly in Germany .',\n",
       " '\" People who are high in positive emotions sleep better , they have better diets , they exercise more , they have lower levels of these stress hormones , \" Cohen said .',\n",
       " \"Robin Saunders , head of the bank 's London-based principal finance unit , is also expected to quit .\",\n",
       " \"But the new study , from the Women 's Health Initiative , said the opposite .\",\n",
       " 'It wants to force him to return his allegedly ill-gotten gains , with interest , and pay penalties .',\n",
       " 'Mahmud was seized near Tikrit , the area from which he and Hussein hail , about 90 miles north of Baghdad , U.S. military officials said Wednesday night .',\n",
       " \"They remain 40 percent below the levels prior to February 's initial overstatement news .\",\n",
       " \"The arrests revealed new details about the four-month investigation at Selenski 's Mount Olivet Road home .\",\n",
       " \"The broad Standard & Poor 's 500 Index < .SPX > lost 6 points , or 0.71 percent , to 927 .\",\n",
       " 'Bond voiced disappointment that neither President Bush nor his brother attended the 2002 conference in Texas or the 2003 meeting in Florida .',\n",
       " \"Now , Blanca 's American husband , 63-year-old Roger Lawrence Strunk , faces a murder indictment issued in February by the Philippine government , which says he 's the leading suspect .\",\n",
       " 'A key question was whether France , which infuriated Washington by leading the charge against U.N. authorization for the war , would vote \" Yes \" or abstain .',\n",
       " '\" Certainly what we know suggests that we should take what they \\'re saying very seriously , \" he added .',\n",
       " 'On Wall Street , trading resumed with some glitches from the blackout that continued to affect parts of New York City .',\n",
       " 'Tony Blair has taken a hardline stance arguing nothing should be done to lessen the pressure on Mugabe at the gathering in the capital Abuja .',\n",
       " 'Emmy and Golden Globe Award-winners James Brolin and Judy Davis star as Ronald and Nancy Reagan in The Reagans .',\n",
       " 'The Securities and Exchange Commission also filed a civil fraud complaint against Dinh , of Phoenixville .',\n",
       " \"Levin 's attorney , Bo Hitchcock , declined to comment Friday .\",\n",
       " 'A month ago a military C-17 transporter returned to Baghdad when an engine exploded .',\n",
       " 'The Swiss franc rose nearly a third of a centime against the dollar and was last at 1.2998 < CHF = > to the greenback .',\n",
       " 'Associated Press Writers Michelle Morgante in San Diego and Ken Ritter in Las Vegas contributed to this article .',\n",
       " \"The purchase is the largest conservation transaction in Hawaii 's history , the agencies said .\",\n",
       " 'She said Nelson heard someone shout , \" Let \\'s get the Jew ! \"',\n",
       " 'The FCC said existing televisions , VCRs , DVD players and related equipment would remain fully functional under the new broadcast flag system .',\n",
       " 'Motorola had scheduled its earnings report to be released today after the close of trading .',\n",
       " 'For the third time in the past four years , wildfires are the problem .',\n",
       " 'Most of those killed were labourers from Jharkhand and Nepal who were working at Rohtang tunnel .',\n",
       " \"Axcan 's shares closed down 63 Canadian cents , or 4 percent , at C $ 16.93 in Toronto on Tuesday .\",\n",
       " 'It forecast 445 billion yen in loan-loss charges for the year ending next March .',\n",
       " 'Iraqi doctors who treated former prisoner of war Jessica Lynch dismissed on Friday claims made in her biography that she was raped by her Iraqi captors .',\n",
       " 'On Thursday , Lee won a preliminary injunction in New York preventing Viacom from using the name \" Spike TV . \"',\n",
       " 'A grief-stricken old woman , disconsolate with grief , smeared her face with dirt , uttering : \" My child , my child . \"',\n",
       " 'In 1999 a California legislator proposed a law requiring driving tests for those over the age of 75 who sought to renew their licenses .',\n",
       " 'More than 400 people have been killed since August , including Afghan and foreign aid workers , U.S. and Afghan soldiers , officials and police , and many guerrillas .',\n",
       " 'The results will be published the July 10 issue of the journal Nature .',\n",
       " 'The Opposition Leader , Simon Crean , said John Howard had been forced to make changes by the incompetence of his ministers .',\n",
       " 'In fact , 10 million shares of the sale went to an unidentified charitable trust - which promptly sold them .',\n",
       " 'The airline says only Robert Milton is taking a 15-per-cent reduction in pay .',\n",
       " 'The WHIMS study found that combination hormone therapy doubled the risk for probable dementia in women 65 and older and did not prevent mild cognitive impairment .',\n",
       " \"The broader Standard & Poor 's 500 Index gained 16.02 points , or 1.62 percent , at 1,004.63 .\",\n",
       " \"Researchers found that people 65 and older who had fish once a week had a 60 % lower risk of Alzheimer 's than those who never or rarely ate fish .\",\n",
       " 'The product also features an updated release of the Apache Web server , as well as Apache Tomcat and Apache Axis .',\n",
       " \"Clayton 's shares were also suspended from trading on the New York Stock Exchange .\",\n",
       " 'The cleanup , including new carpeting , electrical wiring and bathrooms , cost about $ 130 million .',\n",
       " 'Three such vigilante-style attacks forced the hacker organiser , who identified himself only as \" Eleonora67 ] , \" to extend the contest until 8am ( AEST ) today .',\n",
       " 'They said many had been beaten , and police officers also stormed private wards at the hospital and harassed patients .',\n",
       " 'US authorities blame Al Qaeda for the attacks , which killed 231 people , including 12 Americans .',\n",
       " \"Standing with reporters and photographers about 150 yards from the prison gates was Brent Newbury , president of the Rockland County Patrolmen 's Benevolent Association .\",\n",
       " 'Bremer said one initiative is to launch a US $ 70 million nationwide program in the next two weeks to clean up neighborhoods and build community projects .',\n",
       " 'Earlier this year , the company announced a restatement of its 2002 , 2001 and 2000 financial results .',\n",
       " 'U.S. same-store sales last months at Tim Hortons rose 8.8 per cent .',\n",
       " 'World economic leaders hailed signs of a global revival on Tuesday but agreed it had to be handled with care to prevent any setback .',\n",
       " 'Sterling was down 0.8 percent against the dollar at $ 1.5875 GBP = .',\n",
       " 'Police said they believe Cruz knew of the girl through one of her former schoolmates - though neither the girl nor her family knew him .',\n",
       " 'Peck died peacefully at his Los Angeles home early Thursday with his wife of 48 years , Veronique , by his side .',\n",
       " 'Holden toured Northmoor , a small town in Platte County , Mo . , where between 25 and 30 homes were either damaged or destroyed .',\n",
       " 'But in the end , all the worm did was visit a pornography site , said Vincent Weafer , a security director with Symantec Security Response in California .',\n",
       " 'While it was being called mandatory , Dupont said authorities were not forcing people from their homes .',\n",
       " 'Shares in Juniper Networks jumped more than 10 per cent on Monday after the networking equipment maker inked a sales and marketing deal with Lucent Technologies .',\n",
       " 'The legislation came after U.S. District Judge Lee R. West in Oklahoma City ruled last week that the FTC lacked authority to run the registry .',\n",
       " 'The report said the Corpus Christi-based agent twice called Escobar while the legislator was with the other protesting Democrats in Ardmore , Okla .',\n",
       " 'Yesterday , shares closed up 29 cents , or 0.54 percent , at $ 54.32 .',\n",
       " 'North American futures pointed to a sub-par start to trading on Tuesday , with investors ready to get their first taste of quarterly earnings .',\n",
       " \"President Bush and top officials in his administration cited the threat from Iraq 's alleged chemical and biological weapons and nuclear weapons program as the main justification for going to war .\",\n",
       " 'Officials with Rescue California , one of the groups leading the recall campaign , called the lawsuit laughable .',\n",
       " 'The agreement resolves a lawsuit AOL filed against Microsoft in January 2002 on behalf of its subsidiary , Netscape Communications .',\n",
       " 'The street-racing sequel \" 2 Fast 2 Furious \" won the pole position at the box office , taking in an estimated $ 52.1 million in its opening weekend .',\n",
       " 'Dell has about 32 percent of the U.S. market , but much lower share in the rest of the world .',\n",
       " 'He was sent to Larned State Hospital , where he was evaluated and treated .',\n",
       " \"Two weeks later on New Year 's night , Nikia Shanell Kilpatrick was discovered bound and strangled in her apartment .\",\n",
       " 'With the power back on , state workers headed back to their jobs Friday morning .',\n",
       " \"The report shows that drugs sold in Canadian pharmacies are manufactured in facilities approved by Health Canada - the FDA 's counterpart in Canada .\",\n",
       " 'Democrats argue they are not constitutionally required to redraw the lines , and that proposed maps would disenfranchise minorities and rural Texas .',\n",
       " 'After about three hours of negotiations , the gunman released the hostages after authorities delivered on his request for soft drinks .',\n",
       " 'Lee Peterson testified that he reached his son on his cell phone and talked to him for a couple of minutes .',\n",
       " 'Both bidders agreed to assume about $ 90 million in debt owed on the planes .',\n",
       " \"In 1999 , the building 's owners , the Port Authority of New York and New Jersey , issued guidelines to upgrade the fireproofing to a thickness of 1 { inches .\",\n",
       " \"A woman was listed in good condition at Memorial 's HealthPark campus , he said .\",\n",
       " \"Palm plans to issue about 13.9 million shares of Palm common stock to Handspring 's shareholders , on a fully diluted basis .\",\n",
       " 'The judge ordered the unsealing yesterday at the request of several news agencies , including The Seattle Times , The Associated Press and the Seattle Post-Intelligencer .',\n",
       " 'Assani said Tuesday he did not know what to charge the men with because US officials refused to share information with him .',\n",
       " 'Researchers predicted an additional 23 cases of dementia a year for every 10,000 women on the therapy .',\n",
       " 'Jacob has pushed consolidation for years , but he has said many communities , especially rural ones , have opposed it .',\n",
       " 'A slit the size of one created in the test would let in a stream of gas three times as hot as a blowtorch . \"',\n",
       " 'Legato stockholders will get 0.9 of a share of EMC stock for every share of Legato they own .',\n",
       " '\" The Republicans went into a closet , met with themselves , and announced a \\' compromise . \\' \"',\n",
       " 'Defense Secretary Donald Rumsfeld is awaiting recommendations from his commanders .',\n",
       " \"Goodrem , 18 , announced on Friday that she was suffering Hodgkin 's disease , a curable form of lymphoma cancer .\",\n",
       " 'He says that \" this is a time when we priests need to be renewing our pledge to celibacy , not questioning it .',\n",
       " \"Myanmar 's pro-democracy leader Aung San Suu Kyi will be kept under house arrest following her release from a hospital where she underwent surgery , her personal physician said Friday .\",\n",
       " 'United already has paid the city $ 34 million in penalties for not meeting the first round of employment targets .',\n",
       " 'The budget fell steadily until dropping as low as $ 2.93 billion in 1998 and has gradually risen to $ 3.27 billion for fiscal 2002 .',\n",
       " 'A council of up to nine Iraqis probably will lead the countrys interim government through the coming months , the U.S. civil administrator said Monday .',\n",
       " 'They found molecules that can only be produced when ozone breaks down cholesterol .',\n",
       " 'Ghulam Mahaiuddin , head of administration in the southern province of Helmand , said the bus blast happened early in the morning , west of the provincial capital Lashkargah .',\n",
       " \"Synthes-Stratec 's cash payment for Mathys would be financed with cash on hand plus bank borrowings being arranged by Credit Suisse First Boston .\",\n",
       " 'Defense Secretary Donald H. Rumsfeld and others argued that Saddam Hussein possessed chemical and biological weapons and was hiding them .',\n",
       " 'The numbers highlight a conundrum : the difficulty of classifying racial and ethnic categories in an increasingly fluid and multi-ethnic society .',\n",
       " '\" Kmart needs to dramatically overhaul management in the areas of buying , store operations and sourcing , \" he said .',\n",
       " 'The fight over online music sales was disclosed in documents filed last week with the judge and made available by the court yesterday .',\n",
       " \"The two cases concerned the admissions policies of the University of Michigan 's law school and undergraduate college .\",\n",
       " 'With the test , Hubbard said , \" I believe that we have found the smoking gun .',\n",
       " \"Scribner 's body was found floating in the city 's Portage Bay , where he lived with his wife in a houseboat .\",\n",
       " \"Congo 's war began in 1998 when Uganda and Rwanda invaded to back rebels fighting to topple the central government .\",\n",
       " 'The Pentagon , saying that Boykin requested it , is investigating his remarks .',\n",
       " \"She said Jane Doe 's lawyers asked Verizon to withhold her name because she was planning on challenging the subpoena .\",\n",
       " 'The two men were allegedly trying to engage Russian exiles in Britain in the assassination plot .',\n",
       " \"The council comprises 13 Shi 'ites , five Sunni Arabs , five Kurds , an Assyrian Christian and a Turkmen .\",\n",
       " 'Eyewitnesses told how Sally , 62 , originally from Coatbridge , Lanarkshire , screamed as the escalator collapsed then sucked her in .',\n",
       " 'The company is working with the ObjectWeb consortium , Apache Software Foundation and the Eclipse IDE development community as part of the effort .',\n",
       " 'The United States has accused Iran of masking plans to make nuclear weapons behind a civilian nuclear programme .',\n",
       " 'A new variant of Blaster also appeared Wednesday and seemed to be spreading , according to antivirus companies .',\n",
       " 'Directed by Jonathan Lynn from a script by Elizabeth Hunter and Saladin K. Patterson .',\n",
       " 'The U.N. nuclear watchdog reprimanded Iran on Thursday for failing to comply with its nuclear safeguards obligations and called on Tehran to unconditionally accept stricter inspections by the agency .',\n",
       " 'She said he persisted and she eventually allowed him to fix her bike while she sat in the front seat of his car .',\n",
       " 'A base configuration with a 2.0GHz Intel Celeron processor , 128M bytes of memory , a 40G-byte hard drive , and a CD-ROM drive costs US $ 729 .',\n",
       " '\" We have some small opportunities in November and maybe January , \" Mr. Parsons said optimistically .',\n",
       " \"Tidmarsh will compete in today 's third round .\",\n",
       " 'Foam flaking off from all over the tank left dozens of pockmarks each flight on the thermal tiles that cover much of the shuttle , Turcotte said .',\n",
       " 'Mr Eddington described Monday \\'s talks with union leaders as \" sensible \" .',\n",
       " 'Vaccine makers have been thrust into the limelight as government programs to encourage wider vaccination and fears of biological attacks on civilian and military targets .',\n",
       " 'During the same quarter last year , EDS declared a profit of $ 354 million , or 72 cents per share .',\n",
       " 'ICANN has criticised the changes and asked VeriSign to voluntarily suspend them .',\n",
       " 'Less than a month after departing her anchor \\'s chair at \" Dateline NBC , \" Jane Pauley has signed a new deal with NBC to host a syndicated daytime talk show .',\n",
       " '\" The releases are the latest in a series of efforts by the government to move Myanmar to multi-party democracy and national conciliation . \"',\n",
       " 'The administration cited those links as primary justification for invading Iraq and toppling the regime of Saddam Hussein .',\n",
       " 'A few hours later , the House voted 256 to 170 to pass the Healthy Forest Restoration Act sponsored by Rep. Scott McInnis , R-Colo .',\n",
       " 'I would like to publicly thank Sir Alex Ferguson for making me the player I am today . \"',\n",
       " 'Bremer will focus on the politics , Garner said , adding that he expects Bremer to arrive in Iraq by next week .',\n",
       " 'More than 130 people and $ 17 million have been seized nationwide in operations by the FBI and other agencies to stop cybercrime .',\n",
       " \"The family stopped for lunch at Freshwater Spit , where several children went to the water 's edge to play in the surf shortly after noon .\",\n",
       " 'Island Def Jam must pay $ 52 million in punitive damages , and Cohen must pay the remaining $ 56 million , the jury said .',\n",
       " \"Without going into specifics , Oracle managers also indicated PeopleSoft 's roughly 8,000 workers could expect mass layoffs .\",\n",
       " '\" I am happy to be here in the United States , far away from the clutches of the tyrant Castro , \" Wilson said through a Spanish interpreter .',\n",
       " 'Excluding one-time items , the company enjoyed a profit of 6 cents a share .',\n",
       " 'In January 1996 , two of his nude models were arrested atop of a Manhattan snowdrift , posed beneath an ice-cream parlor sign that advertised Frozen Fantasies .',\n",
       " 'Lakhani was charged with attempting to provide material support and resources to a terrorist group and acting as an arms broker without a license .',\n",
       " 'General Motors Corp. posted a record 8.4 percent improvement in 2000 .',\n",
       " 'Woodley , who underwent a liver transplant in 1992 , died of liver and kidney failure .',\n",
       " 'Her detention brings to 19 the number of the 55 most-wanted Iraqis now in US custody .',\n",
       " 'Just five months ago , Dean committed to accepting taxpayer money and vowed to attack any Democrat who didnt .',\n",
       " '\" Contrary to the court \\'s decision , we firmly believe Congress gave the FTC authority to implement the national Do Not Call list .',\n",
       " \"Ruffner , 45 , doesn 't yet have an attorney in the murder charge , authorities said .\",\n",
       " \"It also faces significant regulatory delays and uncertainty , and threatens serious damage to the company 's business , he added .\",\n",
       " 'Mason said al-Amoudi was arrested at Dulles International Airport on Sunday as he came into the country .',\n",
       " \"I never thought I 'd write these words , but here goes : I miss Vin Diesel .\",\n",
       " 'The report ranked 45 large companies based on employment , marketing , procurement , community reinvestment and charitable donations .',\n",
       " \"Those findings , published in today 's Journal of the American Medical Association , are the latest bad news about estrogen-progestin therapy .\",\n",
       " 'A view of the devastation left behind when a man drove his car through a crowded farmers market in Santa Monica on Wednesday .',\n",
       " \"Experts said the case marks one of the first times in which a parent was charged with contributing to a child 's suicide .\",\n",
       " 'An amendment to remove the exemption for the state-sanctioned sites failed on a much closer 237-186 vote .',\n",
       " 'The AP quotes a local policeman as saying the British troops were targeted by townspeople angry over civilian deaths during a demonstration yesterday in the town of Majar Al-Kabir .',\n",
       " 'Baer said he had concluded that lawyers for the two victims \" have shown , albeit barely ... that Iraq provided material support to bin Laden and al-Qaeda \" .',\n",
       " 'Mayor Michael R. Bloomberg said yesterday that the men \\'s behavior \" was a disgrace , and totally inappropriate for city employees . \"',\n",
       " 'Right now , only six states do : Arkansas , Michigan , Minnesota , New Jersey , Virginia , and Wisconsin .',\n",
       " 'Mr. Brendsel is expected to remain with the Freddie Mac Foundation .',\n",
       " 'They also are reshaping the retail business relationship elsewhere , as companies take away ideas and practices that change how they do business in their own firms and with others .',\n",
       " 'The technology-laced Nasdaq Composite Index .IXIC rose 39.39 points , or 2.2 percent , to 1,826.33 , after losing more than 2 percent on Tuesday .',\n",
       " 'Frank Quattrone , the former Credit Suisse First Boston technology investment-banking guru , reportedly pleaded not guilty Tuesday to charges of obstruction of justice and witness tampering .',\n",
       " \"It is the fifth such election in Iraq , after the northern city of Mosul and three cities in Iraq 's south .\",\n",
       " 'It said a civil complaint by the Securities and Exchange Commission is expected as well .',\n",
       " '\" This individual \\'s lawyers are trying to obtain from the court a free pass to download or upload music online illegally . \"',\n",
       " 'The 30-year bond US30YT = RR firmed 26 / 32 , taking its yield to 4.17 percent , after hitting another record low of 4.16 percent .',\n",
       " 'The shooter ran away , police said , eluding an officer who gave chase .',\n",
       " 'But SCO has hit back , saying : \" We view IBM \\'s counterclaim filing today as an effort to distract attention from its flawed Linux business model .',\n",
       " 'Helicopters hovered over al-Khalidiya into the early hours of Sunday .',\n",
       " \"If Walker appeals Parrish 's ruling , it would stop the extradition process and could take several months , Rork said .\",\n",
       " 'Boykin ’ s also referred to Islamist fighters as America ’ s “ spiritual enemy ” that , “ will only be defeated if we come against them in the name of Jesus ” .',\n",
       " \"The first vulnerability is a buffer overrun that results from IE 's failure to properly determine an object type returned from a Web server .\",\n",
       " '\" To make sure that we avoided any perception of wrongdoing , we are not co-mingling appropriated and non-appropriated funds ( from Congress ) , \" said Faletti .',\n",
       " 'In Falluja on Thursday , two grenades were thrown at soldiers from the Third Armored Cavalry Regiment , wounding seven .',\n",
       " 'Prince Saud said , \" The Kingdom of Saudi Arabia has been wrongfully and morbidly accused of complicity in the tragic terrorist attacks of September 11 , 2001 . \"',\n",
       " '\" If the voluntary reliability standards were complied with , we wouldn \\'t have had a problem . \"',\n",
       " \"China accounted for about 14 percent of Motorola 's sales last year , and the company has large manufacturing operations there .\",\n",
       " 'Shares of MONY were gaining $ 2.57 , or 9 % , to $ 31.90 in after-hours trading on Instinet .',\n",
       " 'Founded in 1996 , the LendingTree exchange consists of more than 200 banks , lenders , and brokers .',\n",
       " 'Houston fourth-graders also performed similarly to national peers in writing .',\n",
       " 'If achieved it would represent an increase of 10 per cent from the same quarter a year ago .',\n",
       " \"It cut taxes while balancing the budget for three years and reduced Europe 's second highest per capita national debt .\",\n",
       " '\" We continue to work with the Saudis on this , but they did not , as of the time of this tragic event , provide the additional security we requested . \"',\n",
       " 'In the second quarter last year , the company experienced a net loss of $ 185 million , or 54 cents a share , on sales of $ 600 million .',\n",
       " 'We don \\'t know if any will be SARS , \" said Dr. James Young , Ontario \\'s commissioner of public safety .',\n",
       " 'We need a certifiable pay as you go budget by mid-July or schools wont open in September , Strayhorn said .',\n",
       " 'In 1995 , Schwarzenegger expanded the program nationwide to serve 200,000 children in 15 cities , most who come from housing projects or homeless shelters .',\n",
       " 'A spokesman said : \" Further testing is under way but at this stage , given the early detection , the outlook is positive . \"',\n",
       " \"Except for a few archaic characteristics , they are as recognizable as Hamlet 's poor Yorick .\",\n",
       " \"He is a brother to three-year-old Mia , from Kate 's first marriage , to film producer Jim Threapleton .\",\n",
       " 'Only two other countries , Germany and the Dominican Republic , have publicly expressed reservations , and Germany has since said it will sign it .',\n",
       " \"The settlement includes $ 4.1 million in attorneys ' fees and expenses .\",\n",
       " 'It reports a mailing list of 50,000 and support from about 500 congregations and 50 bishops .',\n",
       " 'Dick is going to be there as long as Dick wants to be there , \" Reuters reports Langone as saying .',\n",
       " 'The state has received 19 entries in a competition for a World Trade Center Memorial and is working with families of victims to select a winner .',\n",
       " 'However , John Clare , chief executive of the Dixons Group , expressed his disappointment .',\n",
       " '\" The same three Response Team members also met with Monsignor Grass , who while manifestly repentant , admitted that the allegations were true .',\n",
       " 'U.S. manufacturing growth expanded for the third straight month in September but at a slower pace , according to a report released shortly after the opening bell .',\n",
       " 'Microsoft has described the technology as \" a brand new client platform for building smart , connected , media rich applications in Longhorn . \"',\n",
       " \"But for more than a century , an untold amount of money intended for some of the nation 's poorest residents was lost , stolen or never collected .\",\n",
       " 'It is rare for a legal challenge to occur before a bill becomes law .',\n",
       " 'St. Paul Chairman and Chief Executive Jay S. Fishman , 51 , will be CEO of the combined company .',\n",
       " 'There are now 37 active probable cases in the GTA , compared with 70 cases on June 6 .',\n",
       " 'The constitutionality of outlawing partial birth abortion is not an open question .',\n",
       " '\" It should have reported that it was sailing with an atomic bomb cargo , \" Anomeritis said , referring to the quantity of explosives on board .',\n",
       " \"Mr. Bergonzi was the finance chief from 1995 until his departure in 1999 , and was intimately involved in the alleged scheme to pump up Rite Aid 's earnings .\",\n",
       " 'The Aspen Fire had charred more than 12,400 acres by today on Mount Lemmon just north of Tucson , and more than 250 homes had been destroyed .',\n",
       " 'They said he would be open to letting that license go to the city of Chicago .',\n",
       " 'It argued that such access \" is not required by domestic or international law and should not be treated as a precedent . \"',\n",
       " 'The male eagle was found by a zookeeper early Thursday , suffering from severe puncture wounds in his abdomen .',\n",
       " 'He served as a marine in the Second World War and afterward began submitting articles to magazines .',\n",
       " 'The Legislature on Wednesday sent Gov. Jeb Bush a bill it hopes will lower malpractice insurance rates and keep doctors from limiting their practices or moving out of state .',\n",
       " \"In Taiwan , the capital 's mayor and other officials handed out free thermometers in a islandwide ``take-your-temperature ' ' campaign Sunday , amid evidence that containment efforts were also paying off .\",\n",
       " \"Lawtey is not the first faith-based program in Florida 's prison system .\",\n",
       " 'American forces here organized the elections , which officials say are important steps toward establishing democracy in Iraq .',\n",
       " 'Negotiators talked with the boy for about an hour and a half , Bragdon said .',\n",
       " '\" If draining the ponds in Maryland will help further establish [ his ] innocence , we welcome it .',\n",
       " \"But Cruz resembled a police sketch of the suspect and had injuries consistent with what police expected from the struggle he had with the girl 's mother , Lansdowne said .\",\n",
       " 'Passed in 1999 but never put into effect , the law would have made it illegal for bar and restaurant patrons to light up .',\n",
       " 'A number below 50 suggests contraction in the manufacturing sector , while a number above that indicates expansion .',\n",
       " 'Half of the women were given a daily dose of the drug and half took a placebo .',\n",
       " 'It would be difficult to overestimate the potential dangers of the Remote Procedure Call ( RPC ) vulnerability .',\n",
       " 'Mr. Bloomberg later told reporters that the agreement \" will be a compromise , like the real world requires . \"',\n",
       " 'The man , who entered the post office in Lakeside shortly before 3 p.m. , gave up to deputies about 6 : 30 p.m.',\n",
       " 'Rock singer Ozzy Osbourne , recovering from a quad bike crash , is conscious and joking in his hospital bed , his daughter Kelly said tonight .',\n",
       " 'The New York senator \\'s new book , \" Living History , \" appears a certain bestseller .',\n",
       " 'IBM is also \" pursuing membership in the group \" and plans to be an active participant , according to the CELF statement .',\n",
       " 'Through Thursday , Oracle said 34.75 million PeopleSoft shares had been tendered .',\n",
       " \"The company 's chief executive retired and chief financial officer resigned .\",\n",
       " 'The FBI is trying to determine when White House officials and members of the vice president ’ s staff first focused on Wilson and learned about his wife ’ s employment at the agency .',\n",
       " 'The tech-heavy Nasdaq Stock Markets composite index added 1.16 points to 1,504.04 .',\n",
       " 'He will replace Ron Dittemore , who announced his resignation April 23 .',\n",
       " 'Pen Hadow , who became the first person to reach the geographic North Pole unsupported from Canada , has just over two days of rations left .',\n",
       " 'Many of the victims had been headed home for R & R or emergency leave when they were killed .',\n",
       " 'The face of President Saddam Hussein was added to Iraqi currency after the 1991 Gulf War .',\n",
       " '\" It \\'s safe to assume that the Senate is prepared to pass some form of cap , \" King said .',\n",
       " 'He was also accused of masterminding bombings that killed 22 people in Manila in December 2000 .',\n",
       " 'The Nikkei average ended trading down 1.83 percent at 10,310.04 , a four-week low .',\n",
       " 'That exploit works on unpatched Windows 2000 machines with Service Pack 3 and 4 .',\n",
       " 'The center has a budget of $ 45 million , most of which will be spent on research and testing , Bridges said .',\n",
       " 'Out of the nearly $ 20 billion , $ 18.6 billion is earmarked for reconstruction of Iraq and $ 1.2 billion for Afghanistan .',\n",
       " '\" For me , the Lewinsky imbroglio seemed like just another vicious scandal manufactured by political opponents , \" according to extracts released yesterday .',\n",
       " 'Associated Press Writer Sara Kugler contributed to this report from New York City .',\n",
       " 'That compares with a profit of $ 1 million , or breakeven , on $ 1.39 billion in revenue during the same period last year .',\n",
       " 'The company reported quarterly revenue of $ 388.1 million , compared with $ 318.5 million in the same period a year ago .',\n",
       " 'The study was presented yesterday in Chicago at the annual meeting of the Radiological Society of North America .',\n",
       " 'Under the plan , Maine would act as a \" pharmacy benefit manager \" to lower the cost of prescription drugs .',\n",
       " '\" The impact of increased prices has only begun to be seen in the financial numbers of the company , \" Noranda president and chief executive officer Derek Pannell said .',\n",
       " 'In exchange , North Korea would be required to end its nuclear weapons program .',\n",
       " 'Nine years ago , they were married by a justice of the peace .',\n",
       " 'Thousands of people in the South of England caught a glimpse of a lunar eclipse as they gazed up at the sky on Saturday night .',\n",
       " 'The rats that consumed the tomato powder had a 26 percent lower risk of prostate cancer death than the control rats , researchers found .',\n",
       " 'It is a national concern that will touch virtually every American , \" Abraham said .',\n",
       " 'It will also unveil a version of its Windows Server 2003 operating system tuned specifically for storage devices .',\n",
       " 'At 12 , Lionel Tate was charged with first-degree murder over the death of Tiffany Eunick .',\n",
       " 'About 1,417 schools statewide receive Title I money .',\n",
       " 'Now , nearly two years later , Mallard prepares for trial on charges of murder and tampering with evidence .',\n",
       " 'In Nairobi , Kenya , the Very Rev. Peter Karanja , provost of All Saints Cathedral , said the U.S. Episcopal Church \" is alienating itself from the Anglican Communion . \"',\n",
       " 'Recall backers say they have collected 1,600,000 signatures , approaching twice the 897,158 needed to force an election .',\n",
       " 'The book , called \" Lies and the Lying Liars Who Tell Them : A Fair and Balanced Look at the Right , \" hits stores this weekend .',\n",
       " 'Selenski had previously spent seven years in prison on a bank robbery conviction .',\n",
       " 'The decision was among the most significant steps toward deregulation undertaken during the Bush administration .',\n",
       " '\" For us , that doesn \\'t make a difference - the sexual orientation , \" Archbishop Tutu said in the black urban centre of Soweto .',\n",
       " 'Around 9 : 00 a.m. EDT ( 1300 GMT ) , the euro was at $ 1.1566 against the dollar , up 0.07 percent on the day .',\n",
       " \"Sony 's portfolio gives subscribers a variety of personalized services including the ability to download and experience images , ring tones , music videos and other music entertainment services .\",\n",
       " 'He said the local organized crime police were investigating a suspect , but he would not confirm if it was the 24-year-old cited by Bitdefender .',\n",
       " 'Previously , it had reported a profit of $ 12 million , or 0 cents a share , for that period .',\n",
       " 'The life expectancy for boys born in 2001 was 74.4 years , up two years since 1990 .',\n",
       " 'Big Blue says the SEC calls the action a fact-finding investigation and has not reached any conclusions related to this matter .',\n",
       " 'They were held under Section 41 of the Terrorism Act 2000 on suspicion of involvement in the commission , preparation or instigation of acts of terrorism .',\n",
       " \"Starting on Saturday , every computer infected with MSBlast is expected to start flooding Microsoft 's Windows Update service with legitimate-looking connection requests .\",\n",
       " '\" We see the First Amendment to protect religious liberty , not crush religious liberty , \" said Patrick Mahoney , director of the Christian Defense Coalition .',\n",
       " 'Florida \\'s Third District Court of Appeal saidon Wednesdaythe original proceedings were \" irretrievably tainted \" by misconduct by lawyers representing the class .',\n",
       " 'Courant Staff Writers Matt Eagan and Ken Davis contributed to this story .',\n",
       " 'In addition , the committee noted , \" while spending is firming , the labour market has been weakening \" .',\n",
       " 'Nigeria and other African oil producers are increasingly important in U.S. plans to lessen dependence on Middle Eastern suppliers for its energy security .',\n",
       " 'Appeals had kept him on death row longer than anyone else in the U.S. , AP said .',\n",
       " 'While many likely now will quit – as millions of women already have – Soltes said she likely will continue to prescribe the supplements for relief of change-of-life symptoms .',\n",
       " \"The federal and local governments remained largely shut down in the aftermath of Hurricane Isabel , as were schools , and much of the region 's transportation network was slowed .\",\n",
       " 'Ursel Reisen confirmed it operated the coach , but gave no details other than to say the passengers were of mixed ages .',\n",
       " 'But he is the only candidate who has won national labor endorsements so far , picking up his 11th union on Tuesday when the United Steelworkers of America endorsed him .',\n",
       " 'The judge also refused to postpone the trial date of Sept . 29 .',\n",
       " 'Regardless , its first quarter saw a profit of $ 721 million , or 29 cents , on revenue of $ 17.9 billion .',\n",
       " 'Under the proposal , Slocan shareholders will get 1.3147 Canfor shares for each common share .',\n",
       " 'BellSouth also added 654,000 net long-distance customers in the third quarter .',\n",
       " 'The day after Wilkie resigned , Howard said in a televised address that Iraq possessed \" chemical and biological weapons capable of causing death and destruction on a mammoth scale \" .',\n",
       " 'The Dow Jones industrial average .DJI slipped 9.54 points , or 0.1 percent , at 9,558.92 .',\n",
       " 'Earlier on Monday , Grant Thornton SpA repeated previous statements that it was \" a victim of fraudulent action \" .',\n",
       " \"The winner of this year 's Most Popular New Talent Logie , Goodrem first went to a specialist on Monday feeling tired and unwell .\",\n",
       " 'All three were studied for fingerprints , DNA and other traces of evidence , but prosecutors have not yet testified to what , if anything , they yielded .',\n",
       " 'Cambone said U.S forces found the tractor-trailer April 19 at a Kurdish checkpoint near the city of Mosul in northern Iraq .',\n",
       " 'Sony Ericsson also said it would shut down its GSM / UMTS R & D center in Munich , Germany , to increase profitability .',\n",
       " 'J.D. Edwards shareholders will receive 0.86 of a share of PeopleSoft for each share of J.D. Edwards .',\n",
       " 'That failure to act contributed to September the 11th and the failure to act today continues ( to put ) Americans in a vulnerable circumstance , \" Graham said .',\n",
       " 'The Intel C + + Compiler for Platform Builder for Microsoft .NET is available for the suggested list price of $ 1,499 and is intended for OEM and system integrator use .',\n",
       " '\" There were , \" said board member and Nobel-prize winning Stanford physicist Douglas Osheroff , \" some extremely bad decisions .',\n",
       " \"He later learned that the incident was caused by the Concorde 's sonic boom .\",\n",
       " \"Zulifquar Ali , a worshiper slightly wounded by shrapnel , said the attackers first targeted the mosque 's guards .\",\n",
       " 'He said the problem needs to be corrected before the space shuttle fleet is cleared to fly again .',\n",
       " 'Doctors would face fines and up to two years in prison for performing the procedure , except as a lifesaving step .',\n",
       " '\" We make no apologies for finding every legal way possible to protect the American public from further terrorist attack , \" Barbara Comstock said .',\n",
       " \"Since March 11 , when the market 's major indices were at their lowest levels since hitting multi-year lows in October , the tech-laden Nasdaq has climbed nearly 20 per cent .\",\n",
       " 'The two men , whose names were not released , both were using Pakistani passports and were seen together at the airport earlier in the evening , police said .',\n",
       " '\" We \\'ve put a lot of effort and energy into improving our patching progress , probably later than we should have .',\n",
       " 'Rebels sought to consolidate their grip on a troubled northeastern Congolese town Tuesday after a week of fighting that killed at least 112 people .',\n",
       " 'This was around the time Congress was debating a resolution granting the President broad authority to wage war .',\n",
       " 'After their arrests , the men told investigators they paid to be smuggled into Blaine , Wash . , from Canada last month , two sources said .',\n",
       " 'But Adora Obi Nweze , the NAACP state president , said the state only tried to prove its conclusion of suicide , rather than consider the possibility of murder .',\n",
       " '\" We can \\'t change the past , but we can do a lot about the future , \" Sheehan said at a news conference Wednesday afternoon .',\n",
       " 'Subsequently , some bondholders have filed suit to block the exchange offer .',\n",
       " 'Officer Evans did not respond to requests for an interview last week .',\n",
       " 'Sixty players and five coaches from the school attended the training camp in August in Preston Park , about 125 miles north of Philadelphia .',\n",
       " 'The official would not name the leakers for the record and said he had no indication that Mr Bush knew about the calls .',\n",
       " \"In his new position , Dynes will earn $ 395,000 , a significant increase over Atkinson 's salary of $ 361,400 .\",\n",
       " 'Schering-Plough shares fell 72 cents to close at $ 18.34 on the New York Stock Exchange .',\n",
       " \"Defense Secretary Donald Rumsfeld and other top Pentagon officials downplayed Wallace 's comments .\",\n",
       " \"One , Fort Carson-based Sgt. Ernest Bucklew , 33 , was on his way home to attend his mother 's funeral in Pennsylvania , relatives said .\",\n",
       " 'And \" although the preconditions for recovery remain in place , \" it said the prospects for British exports were \" weaker than previously expected . \"',\n",
       " \"Israel 's defense minister on Sunday raised the specter of an Israeli invasion in the Gaza Strip , where Palestinian militants already face a deadly air campaign .\",\n",
       " \"The broader Standard & Poor 's 500 Index .SPX eased 7.57 points , or 0.76 percent , at 990.94 .\",\n",
       " 'The Organization of Petroleum Exporting Countries defied expectations on Wednesday and lowered its output ceiling by 900,000 barrels a day to 24.5 million barrels starting in November .',\n",
       " 'Though that slower spending made 2003 look better , many of the expenditures actually will occur in 2004 .',\n",
       " 'But Odette is the first to form over the Caribbean Sea in December , the Center said .',\n",
       " \"Announced last week , Apple 's iTunes Music Store has sold over 1 million songs in the first week , the company announced on Monday .\",\n",
       " '\" Such communication will help adult smokers make more informed choices , \" company vice president Richard Verheij told a House Energy and Commerce subcommittee at a separate hearing .',\n",
       " 'The dollar was last at $ 1.1149 to the euro , close to its strongest level since April 30 .',\n",
       " 'After their arrests , the men told investigators they paid to be smuggled into the United States from Canada last month .',\n",
       " 'The Production Index rose by 1.4 percentage points from 51.5 percent in May to 52.9 percent in June .',\n",
       " 'Germany , another opponent of the war currently on the U.N. Security Council , has moved closer to the United States , and did not insist on a timetable Monday .',\n",
       " 'Power5 , like Power4 , includes two processor cores in a single slice of silicon .',\n",
       " 'She said in 2003 , not one U.S. state had an obesity rate below 15 percent .',\n",
       " 'Special , sensitive light sensors pick up the telltale glow , he said .',\n",
       " \"The federal government is approving new pesticides without basic information such as whether they harm children , says Canada 's environment commissioner .\",\n",
       " 'In September 2002 , the nearby Gard region was hit by similar floods .',\n",
       " 'Overall , 83 percent of women washed up , compared with 74 percent of men .',\n",
       " 'Analysts had expected 53 cents a share , according to research firm Thomson First Call .',\n",
       " 'The number of people in the UK infected by HIV , the virus that causes Aids , increased by almost 20 per cent last year to nearly 50,000 .',\n",
       " 'But stocks have rallied sharply over the past 3-1 / 2 months amid hopes for an economic rebound later this year .',\n",
       " '\" Spring has arrived in Estonia -- we \\'re back in Europe , \" Prime Minister Juhan Parts told a news conference on Sunday .',\n",
       " 'AMD will own a 60 percent interest in the new company and Fujitsu owns 40 percent .',\n",
       " 'He was then given leave to appeal against the sentence to the Supreme Court of Appeal .',\n",
       " \"Songs can be burned to CDs , but the same playlist can only be burned up to five times - Apple 's puts the limit at ten burns .\",\n",
       " 'SSE shares were little changed , up 0.3 percent at 654 pence by 1018 GMT , but analysts welcomed the move .',\n",
       " 'Shares of EDS gained $ 1.49 , or 6.6 percent , to $ 23.999 early Wednesday on the New York Stock Exchange .',\n",
       " 'The deficit is still expected to top $ 500 billion in 2004 -- even with an improving economy .',\n",
       " '\" As a responsible leader we feel it necessary to make these changes because online chat services are increasingly being misused , \" Microsoft told the BBC .',\n",
       " 'We have already found two trailers , both of which we believe were used for the manufacture of biological weapons .',\n",
       " 'America Online last quarter lost 846,000 dial-up subscribers .',\n",
       " 'Governor Gray Davis estimated yesterday that the fires could cost nearly $ 2 billion .',\n",
       " 'None of the Prairie Plant Systems marijuana can be distributed until the document is made available , she said .',\n",
       " 'He left the ship after the collision , went to his home , and attempted suicide .',\n",
       " \"He reportedly claims Prime Minister Sir Allan Kemakeza had made a deal with him to keep his guns while Harold Keke 's group was armed .\",\n",
       " '\" The woman was taken to New Charing Cross Hospital by ambulance and her condition is critical .',\n",
       " 'If sufficient evidence exists at the end of what is expected to be a five-day hearing , Peterson will be held for trial on the charges .',\n",
       " 'They returned in 1999 after rebel raids on a neighboring Russian region and a series of deadly apartment-building bombings that were blamed on the rebels .',\n",
       " 'Tropical Storm Claudette continued its slow churn toward the Texas coast early Sunday , with forecasters expecting the plodding storm system to make landfall as a hurricane by early Tuesday .',\n",
       " '\" Everything is going to move everywhere , \" Doug Feith , undersecretary of defence for policy , said in an interview .',\n",
       " 'According to Sanmina-SCI , Newisys , based in Austin , Texas , will become a wholly-owned subsidiary .',\n",
       " 'Several black Democratic leaders were attempting to arrange a meeting with DNC chairman Terry McAuliffe to discuss the layoffs .',\n",
       " \"The company 's shares fell 3.6 percent to close at $ 66.89 on the Nasdaq .\",\n",
       " 'The Emeryville-based toy company filed suit Friday in federal court in Wilmington , Del . , claiming Fisher-Price is violating its 1998 patent on interactive learning books for toddlers and preschoolers .',\n",
       " 'They also drafted a non-binding priorities list specifying that a quarter of it may be used to reduce planned 5 percent cuts in fees paid to health-care providers .',\n",
       " 'The Thomson First Call consensus was for earnings of 19 cents a share .',\n",
       " 'Mr Hadley , who has a new partner and child , said : \" I am absolutely delighted .',\n",
       " '\" I love the Catholic Church with all my heart , mind , soul and strength , \" said Troy , who spoke quickly but in a steady voice .',\n",
       " \"A divided Supreme Court ruled that Congress can force the nation 's public libraries to equip computers with anti-pornography filters .\",\n",
       " 'Under NASD regulations , Mr. Young can file a response and request a hearing before an NASD panel .',\n",
       " '\" We make no apologies for finding every legal way possible to protect the American public from further terrorist attacks , \" said Barbara Comstock , Ashcroft \\'s press secretary .',\n",
       " 'One man died and 15 others were hospitalized after drinking tainted coffee following the April 27 worship service at Gustaf Adolph Lutheran Church in New Sweden .',\n",
       " 'The Dow Jones industrial average < .DJI > rose 98.74 points , or 1.12 percent , to 8,949.00 .',\n",
       " \"Analysts ' consensus estimate from Thomson First Call was for a loss of $ 2.08 a share , excluding one-time items .\",\n",
       " 'He blamed guerrillas from the Taliban regime ousted in late 2001 and said it was possible the bomber died in the blast .',\n",
       " 'Responding later , Edward Skyler , a spokesman for the mayor , said , \" The comptroller \\'s statements , while noteworthy for their sensationalism , bear no relation to the facts .',\n",
       " 'Hannum was five and a half months pregnant when her mother died .',\n",
       " \"Goold said reporters ' calls to Peterson may have been monitored .\",\n",
       " \"The state 's population was 6,080,485 in 2000 , according to the U.S. census .\",\n",
       " \"The other 18 people in the building , including Harrison 's ex-girlfriend , were not injured , police spokesman Don Aaron said .\",\n",
       " 'He also accused royal courtiers of poisoning the brothers ’ “ little minds ” .',\n",
       " 'The total for the Johnny Depp swashbuckler rose to $ 232.8 million .',\n",
       " 'I would like to congratulate Russia on the successful World Climate Change Conference last week .',\n",
       " 'At least seven other governments have signed agreements , but have asked not to have them publicized .',\n",
       " \"The G + J executive was testifying in Manhattan 's State Supreme Court where O 'Donnell and G + J are suing each other for breach of contract .\",\n",
       " 'By 10 p.m. , Claudette was centered about 320 miles east of Brownsville , with maximum sustained winds of 65 mph , 9 mph shy of hurricane strength .',\n",
       " \"Jim Furyk celebrated his first Father 's Day as a father by winning his first major golf championship .\",\n",
       " '\" We must not engage in borough warfare , \" Thompson testified at a budget hearing by the City Council \\'s Finance Committee .',\n",
       " \"The Standard & Poor 's 500 Index slipped 3.14 points , or 0.29 percent , to 1,071.99 .\",\n",
       " ...]"
      ]
     },
     "execution_count": 58,
     "metadata": {},
     "output_type": "execute_result"
    }
   ],
   "source": [
    "raw_datasets['train']['sentence1']"
   ]
  },
  {
   "cell_type": "code",
   "execution_count": 59,
   "id": "2a4a15e2",
   "metadata": {},
   "outputs": [
    {
     "data": {
      "application/vnd.jupyter.widget-view+json": {
       "model_id": "ecbac5b79e5e442eba698c3d8c67d1e2",
       "version_major": 2,
       "version_minor": 0
      },
      "text/plain": [
       "Map:   0%|          | 0/3668 [00:00<?, ? examples/s]"
      ]
     },
     "metadata": {},
     "output_type": "display_data"
    },
    {
     "data": {
      "application/vnd.jupyter.widget-view+json": {
       "model_id": "e1be9f78ce484bd7a06085a7ec49b514",
       "version_major": 2,
       "version_minor": 0
      },
      "text/plain": [
       "Map:   0%|          | 0/408 [00:00<?, ? examples/s]"
      ]
     },
     "metadata": {},
     "output_type": "display_data"
    },
    {
     "data": {
      "application/vnd.jupyter.widget-view+json": {
       "model_id": "122f573e281045d39edf096ba7df0515",
       "version_major": 2,
       "version_minor": 0
      },
      "text/plain": [
       "Map:   0%|          | 0/1725 [00:00<?, ? examples/s]"
      ]
     },
     "metadata": {},
     "output_type": "display_data"
    }
   ],
   "source": [
    "# and it can also take the whole dataset in the format required by the model\n",
    "\n",
    "tokenized_dataset = tokenizer(\n",
    "    raw_datasets[\"train\"][\"sentence1\"],\n",
    "    raw_datasets[\"train\"][\"sentence2\"],\n",
    "    padding=True,\n",
    "    truncation=True,\n",
    ")\n",
    "\n",
    "# the problem is that this gets stored IN MEMORY, so it has to be <RAM\n",
    "# To store the dataset on disk and access only samples of it at a time, you can use Dataset.map() method. Below is how\n",
    "\n",
    "# first create a tokenize_funciton() function that defines what happens to each batch of dataset\n",
    "\n",
    "def tokenize_funciton(example):\n",
    "    return tokenizer(example['sentence1'], example['sentence2'], truncation=True)  #note we truncate at batch level, so max length might be different among batches --> therefore we need dynamic padding to bring all batches size to the size of the longest one\n",
    "\n",
    "# then we apply .map\n",
    "\n",
    "tokenized_dataset = raw_datasets.map(tokenize_funciton, batched = True)\n"
   ]
  },
  {
   "cell_type": "code",
   "execution_count": 60,
   "id": "16f0d922",
   "metadata": {},
   "outputs": [
    {
     "data": {
      "text/plain": [
       "DatasetDict({\n",
       "    train: Dataset({\n",
       "        features: ['sentence1', 'sentence2', 'label', 'idx', 'input_ids', 'token_type_ids', 'attention_mask'],\n",
       "        num_rows: 3668\n",
       "    })\n",
       "    validation: Dataset({\n",
       "        features: ['sentence1', 'sentence2', 'label', 'idx', 'input_ids', 'token_type_ids', 'attention_mask'],\n",
       "        num_rows: 408\n",
       "    })\n",
       "    test: Dataset({\n",
       "        features: ['sentence1', 'sentence2', 'label', 'idx', 'input_ids', 'token_type_ids', 'attention_mask'],\n",
       "        num_rows: 1725\n",
       "    })\n",
       "})"
      ]
     },
     "execution_count": 60,
     "metadata": {},
     "output_type": "execute_result"
    }
   ],
   "source": [
    "tokenized_dataset"
   ]
  },
  {
   "cell_type": "code",
   "execution_count": 62,
   "id": "3c09174a",
   "metadata": {},
   "outputs": [
    {
     "name": "stdout",
     "output_type": "stream",
     "text": [
      "[50, 59, 47, 67, 59, 50, 62, 32]\n"
     ]
    },
    {
     "data": {
      "text/plain": [
       "{'input_ids': torch.Size([8, 67]),\n",
       " 'token_type_ids': torch.Size([8, 67]),\n",
       " 'attention_mask': torch.Size([8, 67]),\n",
       " 'labels': torch.Size([8])}"
      ]
     },
     "execution_count": 62,
     "metadata": {},
     "output_type": "execute_result"
    }
   ],
   "source": [
    "# we have to define a collate function that will apply the correct amount of padding to the items of the dataset we want to batch together. \n",
    "# we can do so with DataCollatorWithPadding, which once you give it a tokenizer it will help you create batches with equal padding\n",
    "\n",
    "from transformers import DataCollatorWithPadding\n",
    "\n",
    "data_collator = DataCollatorWithPadding(tokenizer=tokenizer)\n",
    "\n",
    "# gather some samples we want to batch together \n",
    "samples = tokenized_dataset[\"train\"][:8]\n",
    "samples = {k: v for k, v in samples.items() if k not in [\"idx\", \"sentence1\", \"sentence2\"]}\n",
    "print([len(x) for x in samples[\"input_ids\"]] )  # len of sequences. We want to batch them together\n",
    "\n",
    "\n",
    "batch = data_collator(samples)\n",
    "{k: v.shape for k, v in batch.items()}\n",
    "\n"
   ]
  },
  {
   "cell_type": "code",
   "execution_count": 63,
   "id": "36eb5b6c",
   "metadata": {},
   "outputs": [
    {
     "data": {
      "text/plain": [
       "{'input_ids': tensor([[  101,  2572,  3217,  5831,  5496,  2010,  2567,  1010,  3183,  2002,\n",
       "          2170,  1000,  1996,  7409,  1000,  1010,  1997,  9969,  4487, 23809,\n",
       "          3436,  2010,  3350,  1012,   102,  7727,  2000,  2032,  2004,  2069,\n",
       "          1000,  1996,  7409,  1000,  1010,  2572,  3217,  5831,  5496,  2010,\n",
       "          2567,  1997,  9969,  4487, 23809,  3436,  2010,  3350,  1012,   102,\n",
       "             0,     0,     0,     0,     0,     0,     0,     0,     0,     0,\n",
       "             0,     0,     0,     0,     0,     0,     0],\n",
       "        [  101,  9805,  3540, 11514,  2050,  3079, 11282,  2243,  1005,  1055,\n",
       "          2077,  4855,  1996,  4677,  2000,  3647,  4576,  1999,  2687,  2005,\n",
       "          1002,  1016,  1012,  1019,  4551,  1012,   102,  9805,  3540, 11514,\n",
       "          2050,  4149, 11282,  2243,  1005,  1055,  1999,  2786,  2005,  1002,\n",
       "          6353,  2509,  2454,  1998,  2853,  2009,  2000,  3647,  4576,  2005,\n",
       "          1002,  1015,  1012,  1022,  4551,  1999,  2687,  1012,   102,     0,\n",
       "             0,     0,     0,     0,     0,     0,     0],\n",
       "        [  101,  2027,  2018,  2405,  2019, 15147,  2006,  1996,  4274,  2006,\n",
       "          2238,  2184,  1010,  5378,  1996,  6636,  2005,  5096,  1010,  2002,\n",
       "          2794,  1012,   102,  2006,  2238,  2184,  1010,  1996,  2911,  1005,\n",
       "          1055,  5608,  2018,  2405,  2019, 15147,  2006,  1996,  4274,  1010,\n",
       "          5378,  1996, 14792,  2005,  5096,  1012,   102,     0,     0,     0,\n",
       "             0,     0,     0,     0,     0,     0,     0,     0,     0,     0,\n",
       "             0,     0,     0,     0,     0,     0,     0],\n",
       "        [  101,  2105,  6021, 19481, 13938,  2102,  1010, 21628,  6661,  2020,\n",
       "          2039,  2539, 16653,  1010,  2030,  1018,  1012,  1018,  1003,  1010,\n",
       "          2012,  1037,  1002,  1018,  1012,  5179,  1010,  2383,  3041,  2275,\n",
       "          1037,  2501,  2152,  1997,  1037,  1002,  1018,  1012,  5401,  1012,\n",
       "           102, 21628,  6661,  5598,  2322, 16653,  1010,  2030,  1018,  1012,\n",
       "          1020,  1003,  1010,  2000,  2275,  1037,  2501,  5494,  2152,  2012,\n",
       "          1037,  1002,  1018,  1012,  5401,  1012,   102],\n",
       "        [  101,  1996,  4518,  3123,  1002,  1016,  1012,  2340,  1010,  2030,\n",
       "          2055,  2340,  3867,  1010,  2000,  2485,  5958,  2012,  1002,  2538,\n",
       "          1012,  4868,  2006,  1996,  2047,  2259,  4518,  3863,  1012,   102,\n",
       "         18720,  1004,  1041, 13058,  1012,  6661,  5598,  1002,  1015,  1012,\n",
       "          6191,  2030,  1022,  3867,  2000,  1002,  2538,  1012,  6021,  2006,\n",
       "          1996,  2047,  2259,  4518,  3863,  2006,  5958,  1012,   102,     0,\n",
       "             0,     0,     0,     0,     0,     0,     0],\n",
       "        [  101,  6599,  1999,  1996,  2034,  4284,  1997,  1996,  2095,  3333,\n",
       "          2321,  3867,  2013,  1996,  2168,  2558,  1037,  2095,  3041,  1012,\n",
       "           102,  2007,  1996,  9446,  5689,  2058,  5954,  1005,  1055,  2194,\n",
       "          1010,  6599,  1996,  2034,  4284,  1997,  1996,  2095,  3333,  2321,\n",
       "          3867,  2013,  1996,  2168,  2558,  1037,  2095,  3041,  1012,   102,\n",
       "             0,     0,     0,     0,     0,     0,     0,     0,     0,     0,\n",
       "             0,     0,     0,     0,     0,     0,     0],\n",
       "        [  101,  1996, 17235,  2850,  4160,  2018,  1037,  4882,  5114,  1997,\n",
       "          2459,  1012,  2676,  1010,  2030,  1015,  1012,  1016,  3867,  1010,\n",
       "          5494,  2012,  1015,  1010, 19611,  1012,  2321,  2006,  5958,  1012,\n",
       "           102,  1996,  6627,  1011, 17958, 17235,  2850,  4160, 12490,  1012,\n",
       "         11814,  2594, 24356,  2382,  1012,  4805,  2685,  1010,  2030,  1016,\n",
       "          1012,  5840,  3867,  1010,  2000,  1015,  1010, 19611,  1012,  2321,\n",
       "          1012,   102,     0,     0,     0,     0,     0],\n",
       "        [  101,  1996,  4966,  1011, 10507,  2050,  2059, 12068,  2000,  1996,\n",
       "          2110,  4259,  2457,  1012,   102,  1996,  4966, 10507,  2050, 12068,\n",
       "          2008,  3247,  2000,  1996,  1057,  1012,  1055,  1012,  4259,  2457,\n",
       "          1012,   102,     0,     0,     0,     0,     0,     0,     0,     0,\n",
       "             0,     0,     0,     0,     0,     0,     0,     0,     0,     0,\n",
       "             0,     0,     0,     0,     0,     0,     0,     0,     0,     0,\n",
       "             0,     0,     0,     0,     0,     0,     0]]), 'token_type_ids': tensor([[0, 0, 0, 0, 0, 0, 0, 0, 0, 0, 0, 0, 0, 0, 0, 0, 0, 0, 0, 0, 0, 0, 0, 0,\n",
       "         0, 1, 1, 1, 1, 1, 1, 1, 1, 1, 1, 1, 1, 1, 1, 1, 1, 1, 1, 1, 1, 1, 1, 1,\n",
       "         1, 1, 0, 0, 0, 0, 0, 0, 0, 0, 0, 0, 0, 0, 0, 0, 0, 0, 0],\n",
       "        [0, 0, 0, 0, 0, 0, 0, 0, 0, 0, 0, 0, 0, 0, 0, 0, 0, 0, 0, 0, 0, 0, 0, 0,\n",
       "         0, 0, 0, 1, 1, 1, 1, 1, 1, 1, 1, 1, 1, 1, 1, 1, 1, 1, 1, 1, 1, 1, 1, 1,\n",
       "         1, 1, 1, 1, 1, 1, 1, 1, 1, 1, 1, 0, 0, 0, 0, 0, 0, 0, 0],\n",
       "        [0, 0, 0, 0, 0, 0, 0, 0, 0, 0, 0, 0, 0, 0, 0, 0, 0, 0, 0, 0, 0, 0, 0, 1,\n",
       "         1, 1, 1, 1, 1, 1, 1, 1, 1, 1, 1, 1, 1, 1, 1, 1, 1, 1, 1, 1, 1, 1, 1, 0,\n",
       "         0, 0, 0, 0, 0, 0, 0, 0, 0, 0, 0, 0, 0, 0, 0, 0, 0, 0, 0],\n",
       "        [0, 0, 0, 0, 0, 0, 0, 0, 0, 0, 0, 0, 0, 0, 0, 0, 0, 0, 0, 0, 0, 0, 0, 0,\n",
       "         0, 0, 0, 0, 0, 0, 0, 0, 0, 0, 0, 0, 0, 0, 0, 0, 0, 1, 1, 1, 1, 1, 1, 1,\n",
       "         1, 1, 1, 1, 1, 1, 1, 1, 1, 1, 1, 1, 1, 1, 1, 1, 1, 1, 1],\n",
       "        [0, 0, 0, 0, 0, 0, 0, 0, 0, 0, 0, 0, 0, 0, 0, 0, 0, 0, 0, 0, 0, 0, 0, 0,\n",
       "         0, 0, 0, 0, 0, 0, 1, 1, 1, 1, 1, 1, 1, 1, 1, 1, 1, 1, 1, 1, 1, 1, 1, 1,\n",
       "         1, 1, 1, 1, 1, 1, 1, 1, 1, 1, 1, 0, 0, 0, 0, 0, 0, 0, 0],\n",
       "        [0, 0, 0, 0, 0, 0, 0, 0, 0, 0, 0, 0, 0, 0, 0, 0, 0, 0, 0, 0, 0, 1, 1, 1,\n",
       "         1, 1, 1, 1, 1, 1, 1, 1, 1, 1, 1, 1, 1, 1, 1, 1, 1, 1, 1, 1, 1, 1, 1, 1,\n",
       "         1, 1, 0, 0, 0, 0, 0, 0, 0, 0, 0, 0, 0, 0, 0, 0, 0, 0, 0],\n",
       "        [0, 0, 0, 0, 0, 0, 0, 0, 0, 0, 0, 0, 0, 0, 0, 0, 0, 0, 0, 0, 0, 0, 0, 0,\n",
       "         0, 0, 0, 0, 0, 0, 0, 1, 1, 1, 1, 1, 1, 1, 1, 1, 1, 1, 1, 1, 1, 1, 1, 1,\n",
       "         1, 1, 1, 1, 1, 1, 1, 1, 1, 1, 1, 1, 1, 1, 0, 0, 0, 0, 0],\n",
       "        [0, 0, 0, 0, 0, 0, 0, 0, 0, 0, 0, 0, 0, 0, 0, 1, 1, 1, 1, 1, 1, 1, 1, 1,\n",
       "         1, 1, 1, 1, 1, 1, 1, 1, 0, 0, 0, 0, 0, 0, 0, 0, 0, 0, 0, 0, 0, 0, 0, 0,\n",
       "         0, 0, 0, 0, 0, 0, 0, 0, 0, 0, 0, 0, 0, 0, 0, 0, 0, 0, 0]]), 'attention_mask': tensor([[1, 1, 1, 1, 1, 1, 1, 1, 1, 1, 1, 1, 1, 1, 1, 1, 1, 1, 1, 1, 1, 1, 1, 1,\n",
       "         1, 1, 1, 1, 1, 1, 1, 1, 1, 1, 1, 1, 1, 1, 1, 1, 1, 1, 1, 1, 1, 1, 1, 1,\n",
       "         1, 1, 0, 0, 0, 0, 0, 0, 0, 0, 0, 0, 0, 0, 0, 0, 0, 0, 0],\n",
       "        [1, 1, 1, 1, 1, 1, 1, 1, 1, 1, 1, 1, 1, 1, 1, 1, 1, 1, 1, 1, 1, 1, 1, 1,\n",
       "         1, 1, 1, 1, 1, 1, 1, 1, 1, 1, 1, 1, 1, 1, 1, 1, 1, 1, 1, 1, 1, 1, 1, 1,\n",
       "         1, 1, 1, 1, 1, 1, 1, 1, 1, 1, 1, 0, 0, 0, 0, 0, 0, 0, 0],\n",
       "        [1, 1, 1, 1, 1, 1, 1, 1, 1, 1, 1, 1, 1, 1, 1, 1, 1, 1, 1, 1, 1, 1, 1, 1,\n",
       "         1, 1, 1, 1, 1, 1, 1, 1, 1, 1, 1, 1, 1, 1, 1, 1, 1, 1, 1, 1, 1, 1, 1, 0,\n",
       "         0, 0, 0, 0, 0, 0, 0, 0, 0, 0, 0, 0, 0, 0, 0, 0, 0, 0, 0],\n",
       "        [1, 1, 1, 1, 1, 1, 1, 1, 1, 1, 1, 1, 1, 1, 1, 1, 1, 1, 1, 1, 1, 1, 1, 1,\n",
       "         1, 1, 1, 1, 1, 1, 1, 1, 1, 1, 1, 1, 1, 1, 1, 1, 1, 1, 1, 1, 1, 1, 1, 1,\n",
       "         1, 1, 1, 1, 1, 1, 1, 1, 1, 1, 1, 1, 1, 1, 1, 1, 1, 1, 1],\n",
       "        [1, 1, 1, 1, 1, 1, 1, 1, 1, 1, 1, 1, 1, 1, 1, 1, 1, 1, 1, 1, 1, 1, 1, 1,\n",
       "         1, 1, 1, 1, 1, 1, 1, 1, 1, 1, 1, 1, 1, 1, 1, 1, 1, 1, 1, 1, 1, 1, 1, 1,\n",
       "         1, 1, 1, 1, 1, 1, 1, 1, 1, 1, 1, 0, 0, 0, 0, 0, 0, 0, 0],\n",
       "        [1, 1, 1, 1, 1, 1, 1, 1, 1, 1, 1, 1, 1, 1, 1, 1, 1, 1, 1, 1, 1, 1, 1, 1,\n",
       "         1, 1, 1, 1, 1, 1, 1, 1, 1, 1, 1, 1, 1, 1, 1, 1, 1, 1, 1, 1, 1, 1, 1, 1,\n",
       "         1, 1, 0, 0, 0, 0, 0, 0, 0, 0, 0, 0, 0, 0, 0, 0, 0, 0, 0],\n",
       "        [1, 1, 1, 1, 1, 1, 1, 1, 1, 1, 1, 1, 1, 1, 1, 1, 1, 1, 1, 1, 1, 1, 1, 1,\n",
       "         1, 1, 1, 1, 1, 1, 1, 1, 1, 1, 1, 1, 1, 1, 1, 1, 1, 1, 1, 1, 1, 1, 1, 1,\n",
       "         1, 1, 1, 1, 1, 1, 1, 1, 1, 1, 1, 1, 1, 1, 0, 0, 0, 0, 0],\n",
       "        [1, 1, 1, 1, 1, 1, 1, 1, 1, 1, 1, 1, 1, 1, 1, 1, 1, 1, 1, 1, 1, 1, 1, 1,\n",
       "         1, 1, 1, 1, 1, 1, 1, 1, 0, 0, 0, 0, 0, 0, 0, 0, 0, 0, 0, 0, 0, 0, 0, 0,\n",
       "         0, 0, 0, 0, 0, 0, 0, 0, 0, 0, 0, 0, 0, 0, 0, 0, 0, 0, 0]]), 'labels': tensor([1, 0, 1, 0, 1, 1, 0, 1])}"
      ]
     },
     "execution_count": 63,
     "metadata": {},
     "output_type": "execute_result"
    }
   ],
   "source": [
    "batch"
   ]
  },
  {
   "cell_type": "markdown",
   "id": "33c0c0f7",
   "metadata": {},
   "source": [
    "### Fine-tuning training"
   ]
  },
  {
   "cell_type": "code",
   "execution_count": 3,
   "id": "bfd9b423",
   "metadata": {},
   "outputs": [
    {
     "ename": "NameError",
     "evalue": "name 'checkpoint' is not defined",
     "output_type": "error",
     "traceback": [
      "\u001b[31m---------------------------------------------------------------------------\u001b[39m",
      "\u001b[31mNameError\u001b[39m                                 Traceback (most recent call last)",
      "\u001b[36mCell\u001b[39m\u001b[36m \u001b[39m\u001b[32mIn[3]\u001b[39m\u001b[32m, line 10\u001b[39m\n\u001b[32m      7\u001b[39m \u001b[38;5;66;03m# then we pick the model \u001b[39;00m\n\u001b[32m      9\u001b[39m \u001b[38;5;28;01mfrom\u001b[39;00m\u001b[38;5;250m \u001b[39m\u001b[34;01mtransformers\u001b[39;00m\u001b[38;5;250m \u001b[39m\u001b[38;5;28;01mimport\u001b[39;00m AutoModelForAudioClassification\n\u001b[32m---> \u001b[39m\u001b[32m10\u001b[39m model = AutoModelForAudioClassification.from_pretrained(\u001b[43mcheckpoint\u001b[49m, num_labels=\u001b[32m2\u001b[39m)\n",
      "\u001b[31mNameError\u001b[39m: name 'checkpoint' is not defined"
     ]
    }
   ],
   "source": [
    "# First we define the training arguments - even before picking the model? weird\n",
    "\n",
    "from transformers import TrainingArguments\n",
    "\n",
    "training_args = TrainingArguments(\"test-trainer\")\n",
    "\n",
    "# then we pick the model \n",
    "\n",
    "from transformers import AutoModelForAudioClassification\n",
    "model = AutoModelForAudioClassification.from_pretrained(checkpoint, num_labels=2)"
   ]
  },
  {
   "cell_type": "code",
   "execution_count": 2,
   "id": "9878ad0b",
   "metadata": {},
   "outputs": [
    {
     "data": {
      "text/plain": [
       "TrainingArguments(\n",
       "_n_gpu=0,\n",
       "accelerator_config={'split_batches': False, 'dispatch_batches': None, 'even_batches': True, 'use_seedable_sampler': True, 'non_blocking': False, 'gradient_accumulation_kwargs': None, 'use_configured_state': False},\n",
       "adafactor=False,\n",
       "adam_beta1=0.9,\n",
       "adam_beta2=0.999,\n",
       "adam_epsilon=1e-08,\n",
       "auto_find_batch_size=False,\n",
       "average_tokens_across_devices=False,\n",
       "batch_eval_metrics=False,\n",
       "bf16=False,\n",
       "bf16_full_eval=False,\n",
       "data_seed=None,\n",
       "dataloader_drop_last=False,\n",
       "dataloader_num_workers=0,\n",
       "dataloader_persistent_workers=False,\n",
       "dataloader_pin_memory=True,\n",
       "dataloader_prefetch_factor=None,\n",
       "ddp_backend=None,\n",
       "ddp_broadcast_buffers=None,\n",
       "ddp_bucket_cap_mb=None,\n",
       "ddp_find_unused_parameters=None,\n",
       "ddp_timeout=1800,\n",
       "debug=[],\n",
       "deepspeed=None,\n",
       "disable_tqdm=False,\n",
       "do_eval=False,\n",
       "do_predict=False,\n",
       "do_train=False,\n",
       "eval_accumulation_steps=None,\n",
       "eval_delay=0,\n",
       "eval_do_concat_batches=True,\n",
       "eval_on_start=False,\n",
       "eval_steps=None,\n",
       "eval_strategy=IntervalStrategy.NO,\n",
       "eval_use_gather_object=False,\n",
       "fp16=False,\n",
       "fp16_backend=auto,\n",
       "fp16_full_eval=False,\n",
       "fp16_opt_level=O1,\n",
       "fsdp=[],\n",
       "fsdp_config={'min_num_params': 0, 'xla': False, 'xla_fsdp_v2': False, 'xla_fsdp_grad_ckpt': False},\n",
       "fsdp_min_num_params=0,\n",
       "fsdp_transformer_layer_cls_to_wrap=None,\n",
       "full_determinism=False,\n",
       "gradient_accumulation_steps=1,\n",
       "gradient_checkpointing=False,\n",
       "gradient_checkpointing_kwargs=None,\n",
       "greater_is_better=None,\n",
       "group_by_length=False,\n",
       "half_precision_backend=auto,\n",
       "hub_always_push=False,\n",
       "hub_model_id=None,\n",
       "hub_private_repo=None,\n",
       "hub_strategy=HubStrategy.EVERY_SAVE,\n",
       "hub_token=<HUB_TOKEN>,\n",
       "ignore_data_skip=False,\n",
       "include_for_metrics=[],\n",
       "include_inputs_for_metrics=False,\n",
       "include_num_input_tokens_seen=False,\n",
       "include_tokens_per_second=False,\n",
       "jit_mode_eval=False,\n",
       "label_names=None,\n",
       "label_smoothing_factor=0.0,\n",
       "learning_rate=5e-05,\n",
       "length_column_name=length,\n",
       "load_best_model_at_end=False,\n",
       "local_rank=0,\n",
       "log_level=passive,\n",
       "log_level_replica=warning,\n",
       "log_on_each_node=True,\n",
       "logging_dir=test-trainer\\runs\\May31_10-42-06_DESKTOP-L3AH33G,\n",
       "logging_first_step=False,\n",
       "logging_nan_inf_filter=True,\n",
       "logging_steps=500,\n",
       "logging_strategy=IntervalStrategy.STEPS,\n",
       "lr_scheduler_kwargs={},\n",
       "lr_scheduler_type=SchedulerType.LINEAR,\n",
       "max_grad_norm=1.0,\n",
       "max_steps=-1,\n",
       "metric_for_best_model=None,\n",
       "mp_parameters=,\n",
       "neftune_noise_alpha=None,\n",
       "no_cuda=False,\n",
       "num_train_epochs=3.0,\n",
       "optim=OptimizerNames.ADAMW_TORCH,\n",
       "optim_args=None,\n",
       "optim_target_modules=None,\n",
       "output_dir=test-trainer,\n",
       "overwrite_output_dir=False,\n",
       "past_index=-1,\n",
       "per_device_eval_batch_size=8,\n",
       "per_device_train_batch_size=8,\n",
       "prediction_loss_only=False,\n",
       "push_to_hub=False,\n",
       "push_to_hub_model_id=None,\n",
       "push_to_hub_organization=None,\n",
       "push_to_hub_token=<PUSH_TO_HUB_TOKEN>,\n",
       "ray_scope=last,\n",
       "remove_unused_columns=True,\n",
       "report_to=[],\n",
       "restore_callback_states_from_checkpoint=False,\n",
       "resume_from_checkpoint=None,\n",
       "run_name=test-trainer,\n",
       "save_on_each_node=False,\n",
       "save_only_model=False,\n",
       "save_safetensors=True,\n",
       "save_steps=500,\n",
       "save_strategy=SaveStrategy.STEPS,\n",
       "save_total_limit=None,\n",
       "seed=42,\n",
       "skip_memory_metrics=True,\n",
       "tf32=None,\n",
       "torch_compile=False,\n",
       "torch_compile_backend=None,\n",
       "torch_compile_mode=None,\n",
       "torch_empty_cache_steps=None,\n",
       "torchdynamo=None,\n",
       "tpu_metrics_debug=False,\n",
       "tpu_num_cores=None,\n",
       "use_cpu=False,\n",
       "use_ipex=False,\n",
       "use_legacy_prediction_loop=False,\n",
       "use_liger_kernel=False,\n",
       "use_mps_device=False,\n",
       "warmup_ratio=0.0,\n",
       "warmup_steps=0,\n",
       "weight_decay=0.0,\n",
       ")"
      ]
     },
     "execution_count": 2,
     "metadata": {},
     "output_type": "execute_result"
    }
   ],
   "source": [
    "training_args"
   ]
  },
  {
   "cell_type": "code",
   "execution_count": null,
   "id": "7dc9f7c1",
   "metadata": {},
   "outputs": [],
   "source": []
  }
 ],
 "metadata": {
  "kernelspec": {
   "display_name": ".venv",
   "language": "python",
   "name": "python3"
  },
  "language_info": {
   "codemirror_mode": {
    "name": "ipython",
    "version": 3
   },
   "file_extension": ".py",
   "mimetype": "text/x-python",
   "name": "python",
   "nbconvert_exporter": "python",
   "pygments_lexer": "ipython3",
   "version": "3.13.3"
  }
 },
 "nbformat": 4,
 "nbformat_minor": 5
}
